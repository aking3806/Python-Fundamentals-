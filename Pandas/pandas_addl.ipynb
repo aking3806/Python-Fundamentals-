{
 "cells": [
  {
   "cell_type": "code",
   "execution_count": null,
   "metadata": {},
   "outputs": [],
   "source": [
    "##Special Functions"
   ]
  },
  {
   "cell_type": "markdown",
   "metadata": {},
   "source": [
    "##### .div()\n",
    "\n",
    "DataFrame.div(other, axis='columns', level=None, fill_value=None)\n",
    "Series.div(other, level=None, fill_value=None, axis=0)\n",
    "\n",
    "Parameters:\n",
    "\n",
    "- other: The other DataFrame or Series to perform the division with.\n",
    "- axis (for DataFrames): Specifies the axis along which the division is performed. By default, it is set to 'columns', which means division is performed column-wise. If you set it to 'index', the division will be performed row-wise.\n",
    "- level: If the DataFrame or Series has a MultiIndex, you can specify the level on which to perform the division.\n",
    "- fill_value: This parameter is used to fill missing (NaN) values in either of the objects before performing the division. It allows you to replace NaN with a specified value."
   ]
  },
  {
   "cell_type": "code",
   "execution_count": null,
   "metadata": {},
   "outputs": [],
   "source": []
  },
  {
   "cell_type": "code",
   "execution_count": null,
   "metadata": {},
   "outputs": [],
   "source": []
  }
 ],
 "metadata": {
  "kernelspec": {
   "display_name": "Python 3",
   "language": "python",
   "name": "python3"
  },
  "language_info": {
   "name": "python",
   "version": "3.9.6"
  },
  "orig_nbformat": 4
 },
 "nbformat": 4,
 "nbformat_minor": 2
}
