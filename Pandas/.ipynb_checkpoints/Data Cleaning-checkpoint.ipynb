{
 "cells": [
  {
   "cell_type": "markdown",
   "id": "0d3634a5",
   "metadata": {},
   "source": [
    "### Dataframe based on Multiple Files (glob) "
   ]
  },
  {
   "cell_type": "code",
   "execution_count": null,
   "id": "2dbb4633",
   "metadata": {},
   "outputs": [],
   "source": [
    "#Code goes through any file that starts with 'file' and has an extension of .csv.\n",
    "#It opens each file, reads the data into a DataFrame, and then concatenates all of those DataFrames together.\n",
    "\n",
    "import glob\n",
    " \n",
    "files = glob.glob(\"file*.csv\")\n",
    " \n",
    "df_list = []\n",
    "for filename in files:\n",
    "  data = pd.read_csv(filename)\n",
    "  df_list.append(data)\n",
    " \n",
    "df = pd.concat(df_list)\n",
    " \n",
    "print(files)"
   ]
  },
  {
   "cell_type": "markdown",
   "id": "a638b950",
   "metadata": {},
   "source": [
    "### Melt To Transform Data"
   ]
  },
  {
   "cell_type": "markdown",
   "id": "72dd2245",
   "metadata": {},
   "source": [
    "Use pd.melt() to transform df. \n",
    "\n",
    "melt() takes in a DataFrame, and the columns to unpack\n",
    "\n",
    "The parameters you provide are:\n",
    "\n",
    "- frame: the DataFrame you want to melt\n",
    "- id_vars: the column(s) of the old DataFrame to preserve\n",
    "- value_vars: the column(s) of the old DataFrame that you want to turn into variables\n",
    "- value_name: what to call the column of the new DataFrame that stores the values\n",
    "- var_name: what to call the column of the new DataFrame that stores the variables"
   ]
  },
  {
   "cell_type": "code",
   "execution_count": null,
   "id": "183caad9",
   "metadata": {},
   "outputs": [],
   "source": [
    "#Example\n",
    "\n",
    "df = pd.melt(frame=df, id_vars=\"Account\", value_vars=[\"Checking\",\"Savings\"],\n",
    "             value_name=\"Amount\", var_name=\"Account Type\")\n"
   ]
  },
  {
   "cell_type": "markdown",
   "id": "2f75edc0",
   "metadata": {},
   "source": [
    "we often use .columns() to rename the columns after melting"
   ]
  },
  {
   "cell_type": "code",
   "execution_count": null,
   "id": "7041ca55",
   "metadata": {},
   "outputs": [],
   "source": [
    "df.columns([\"Account\", \"Account Type\", \"Amount\"])"
   ]
  }
 ],
 "metadata": {
  "kernelspec": {
   "display_name": "Python 3 (ipykernel)",
   "language": "python",
   "name": "python3"
  },
  "language_info": {
   "codemirror_mode": {
    "name": "ipython",
    "version": 3
   },
   "file_extension": ".py",
   "mimetype": "text/x-python",
   "name": "python",
   "nbconvert_exporter": "python",
   "pygments_lexer": "ipython3",
   "version": "3.9.13"
  }
 },
 "nbformat": 4,
 "nbformat_minor": 5
}
