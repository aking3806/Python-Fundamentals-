{
 "cells": [
  {
   "cell_type": "code",
   "execution_count": 73,
   "id": "7c598e5e",
   "metadata": {},
   "outputs": [],
   "source": [
    "import numpy as np \n",
    "import pandas as pd"
   ]
  },
  {
   "cell_type": "markdown",
   "id": "7f252d40",
   "metadata": {},
   "source": [
    "### Some Basics First "
   ]
  },
  {
   "cell_type": "code",
   "execution_count": 59,
   "id": "18c25ab3",
   "metadata": {},
   "outputs": [],
   "source": [
    "#Adding to a Dictionary Using the = Assignment Operator\n",
    "    #use the = assignment operator to add a new key to a dictionary:\n",
    "dict[key] = value"
   ]
  },
  {
   "cell_type": "code",
   "execution_count": 60,
   "id": "a02d0aa3",
   "metadata": {},
   "outputs": [],
   "source": [
    "#https://www.digitalocean.com/community/tutorials/python-add-to-dictionary\n",
    "#Link to resource on dictionaries"
   ]
  },
  {
   "cell_type": "markdown",
   "id": "407f6c3d",
   "metadata": {},
   "source": [
    "### Challenge 1"
   ]
  },
  {
   "cell_type": "markdown",
   "id": "6e6b569f",
   "metadata": {},
   "source": [
    "\n",
    "You have a list of fruit names, and you want to count the number of times each fruit appears in the list. \n",
    "\n",
    "Write a function that takes a list of fruit names as input and returns a dictionary that maps each fruit to its count."
   ]
  },
  {
   "cell_type": "code",
   "execution_count": 62,
   "id": "d769b2ff",
   "metadata": {},
   "outputs": [
    {
     "name": "stdout",
     "output_type": "stream",
     "text": [
      "{'apple': 2, 'banana': 1, 'orange': 1}\n"
     ]
    }
   ],
   "source": [
    "fruits = ['apple', 'banana', 'orange', 'apple']\n",
    "\n",
    "\n",
    "def fruit_fun(fruits):\n",
    "    fruit_counts = {}\n",
    "    #Use a for loop to iterate over the list of fruit names. \n",
    "    #For each fruit name, check if it's already in the dictionary. I\n",
    "    #If it is, increment its count by 1 and if it's not, add it to the dictionary with a count of 1.\n",
    "    for fruit in fruits: \n",
    "        if fruit in fruit_counts:\n",
    "            fruit_counts[fruit] += 1\n",
    "        else:\n",
    "            fruit_counts[fruit] = 1\n",
    "    return fruit_counts\n",
    "        \n",
    "print(fruit_fun(fruits))"
   ]
  },
  {
   "cell_type": "markdown",
   "id": "880e0911",
   "metadata": {},
   "source": [
    "### Challenge 2:\n"
   ]
  },
  {
   "cell_type": "markdown",
   "id": "7d8821c3",
   "metadata": {},
   "source": [
    "\n",
    "You have a list of book titles and authors, where each book is represented as a tuple of the form (title, author).\n",
    "\n",
    "Write a function that takes a list of book tuples as input and returns a dictionary that maps each author to a list of their book titles."
   ]
  },
  {
   "cell_type": "code",
   "execution_count": 63,
   "id": "2a923243",
   "metadata": {},
   "outputs": [
    {
     "name": "stdout",
     "output_type": "stream",
     "text": [
      "{'author 1': ['book 1'], 'author 2': ['book 2', 'book 4'], 'author 3': ['book 3']}\n"
     ]
    }
   ],
   "source": [
    "books = [('book 1', 'author 1'), ('book 2', 'author 2'), ('book 3', 'author 3'), ('book 4', 'author 2')]\n",
    "\n",
    "def authors(books):\n",
    "    author_to_titles = {}\n",
    "    titles = []\n",
    "    author_list = []\n",
    "    for title, author in books:\n",
    "        #for loop to iterate over the list of book tuples\n",
    "        #For each tuple, the title variable is set to the first element of the tuple (i.e., the book title)\n",
    "        #the author variable is set to the second element of the tuple (i.e., the author's name).\n",
    "        if author in author_to_titles:\n",
    "            #if function to eval if author is already in dict\n",
    "            author_to_titles[author].append(title)\n",
    "                #if yes, appends the title to the author already in the dict\n",
    "        else:\n",
    "            author_to_titles[author] = [title]\n",
    "                #if not, creates a new entry with the author and title\n",
    "    return author_to_titles\n",
    "\n",
    "print(authors(books))"
   ]
  },
  {
   "cell_type": "markdown",
   "id": "4d00cf37",
   "metadata": {},
   "source": [
    "### Challenge 3"
   ]
  },
  {
   "cell_type": "markdown",
   "id": "dd3999ee",
   "metadata": {},
   "source": [
    "\n",
    "You have a list of student names and test scores, where each student is represented as a tuple of the form (name, score). \n",
    "\n",
    "Write a function that takes a list of student tuples as input and returns a pandas dataframe that shows each student's name, score, and rank (1 for the highest score, 2 for the next highest, and so on)."
   ]
  },
  {
   "cell_type": "code",
   "execution_count": null,
   "id": "6f345f92",
   "metadata": {},
   "outputs": [],
   "source": []
  },
  {
   "cell_type": "code",
   "execution_count": 78,
   "id": "0740128f",
   "metadata": {},
   "outputs": [
    {
     "ename": "TypeError",
     "evalue": "'list' object is not callable",
     "output_type": "error",
     "traceback": [
      "\u001b[0;31m---------------------------------------------------------------------------\u001b[0m",
      "\u001b[0;31mTypeError\u001b[0m                                 Traceback (most recent call last)",
      "\u001b[0;32m/var/folders/vv/15vmsdzj0d9c0x2z42fx60fr0000gn/T/ipykernel_21183/3484200385.py\u001b[0m in \u001b[0;36m<module>\u001b[0;34m\u001b[0m\n\u001b[1;32m      4\u001b[0m \u001b[0mstudents\u001b[0m \u001b[0;34m=\u001b[0m \u001b[0;34m{\u001b[0m\u001b[0;34m}\u001b[0m\u001b[0;34m\u001b[0m\u001b[0;34m\u001b[0m\u001b[0m\n\u001b[1;32m      5\u001b[0m \u001b[0;34m\u001b[0m\u001b[0m\n\u001b[0;32m----> 6\u001b[0;31m \u001b[0mscores\u001b[0m \u001b[0;34m=\u001b[0m \u001b[0mlist\u001b[0m\u001b[0;34m(\u001b[0m\u001b[0mzip\u001b[0m\u001b[0;34m(\u001b[0m\u001b[0mscores_1\u001b[0m\u001b[0;34m,\u001b[0m \u001b[0mscores_2\u001b[0m\u001b[0;34m)\u001b[0m\u001b[0;34m)\u001b[0m\u001b[0;34m\u001b[0m\u001b[0;34m\u001b[0m\u001b[0m\n\u001b[0m\u001b[1;32m      7\u001b[0m \u001b[0;34m\u001b[0m\u001b[0m\n\u001b[1;32m      8\u001b[0m \u001b[0;34m\u001b[0m\u001b[0m\n",
      "\u001b[0;31mTypeError\u001b[0m: 'list' object is not callable"
     ]
    }
   ],
   "source": [
    "student_names = ['Alice', 'Bob', 'Charlie', 'Dave', 'Eve']\n",
    "scores_1 = [90, 91, 92, 85, 70]\n",
    "scores_2 = [95, 85, 92, 85, 70]\n",
    "students = {}\n",
    "\n",
    "scores = list(zip(scores_1, scores_2))\n",
    "\n",
    "\n",
    "\n"
   ]
  },
  {
   "cell_type": "code",
   "execution_count": null,
   "id": "c28914da",
   "metadata": {},
   "outputs": [],
   "source": []
  }
 ],
 "metadata": {
  "kernelspec": {
   "display_name": "Python 3 (ipykernel)",
   "language": "python",
   "name": "python3"
  },
  "language_info": {
   "codemirror_mode": {
    "name": "ipython",
    "version": 3
   },
   "file_extension": ".py",
   "mimetype": "text/x-python",
   "name": "python",
   "nbconvert_exporter": "python",
   "pygments_lexer": "ipython3",
   "version": "3.9.13"
  }
 },
 "nbformat": 4,
 "nbformat_minor": 5
}
