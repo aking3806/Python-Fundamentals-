{
 "cells": [
  {
   "cell_type": "code",
   "execution_count": 1,
   "id": "d59254cf",
   "metadata": {},
   "outputs": [],
   "source": [
    "import numpy as np \n",
    "import pandas as pd"
   ]
  },
  {
   "cell_type": "markdown",
   "id": "d5085fcb",
   "metadata": {},
   "source": [
    "### Some Basics First "
   ]
  },
  {
   "cell_type": "code",
   "execution_count": 59,
   "id": "9f8f065e",
   "metadata": {},
   "outputs": [],
   "source": [
    "#Adding to a Dictionary Using the = Assignment Operator\n",
    "    #use the = assignment operator to add a new key to a dictionary:\n",
    "dict[key] = value"
   ]
  },
  {
   "cell_type": "code",
   "execution_count": 60,
   "id": "fe5b404b",
   "metadata": {},
   "outputs": [],
   "source": [
    "#https://www.digitalocean.com/community/tutorials/python-add-to-dictionary\n",
    "#Link to resource on dictionaries"
   ]
  },
  {
   "cell_type": "markdown",
   "id": "269bf8c1",
   "metadata": {},
   "source": [
    "### Challenge 1"
   ]
  },
  {
   "cell_type": "markdown",
   "id": "38d7947a",
   "metadata": {},
   "source": [
    "\n",
    "You have a list of fruit names, and you want to count the number of times each fruit appears in the list. \n",
    "\n",
    "Write a function that takes a list of fruit names as input and returns a dictionary that maps each fruit to its count."
   ]
  },
  {
   "cell_type": "code",
   "execution_count": 33,
   "id": "6337d025",
   "metadata": {},
   "outputs": [
    {
     "name": "stdout",
     "output_type": "stream",
     "text": [
      "{'apple': 2, 'banana': 1, 'orange': 1}\n"
     ]
    }
   ],
   "source": [
    "fruits = ['apple', 'banana', 'orange', 'apple']\n",
    "\n",
    "\n",
    "def fruit_fun(fruits):\n",
    "    fruit_counts = {}\n",
    "    #Use a for loop to iterate over the list of fruit names. \n",
    "    #For each fruit name, check if it's already in the dictionary. I\n",
    "    #If it is, increment its count by 1 and if it's not, add it to the dictionary with a count of 1.\n",
    "    for fruit in fruits: \n",
    "        if fruit in fruit_counts:\n",
    "            fruit_counts[fruit] += 1\n",
    "        else:\n",
    "            fruit_counts[fruit] = 1\n",
    "    return fruit_counts\n",
    "        \n",
    "print(fruit_fun(fruits))"
   ]
  },
  {
   "cell_type": "markdown",
   "id": "2ac94121",
   "metadata": {},
   "source": [
    "### Challenge 2:\n"
   ]
  },
  {
   "cell_type": "markdown",
   "id": "a738e657",
   "metadata": {},
   "source": [
    "\n",
    "You have a list of book titles and authors, where each book is represented as a tuple of the form (title, author).\n",
    "\n",
    "Write a function that takes a list of book tuples as input and returns a dictionary that maps each author to a list of their book titles."
   ]
  },
  {
   "cell_type": "code",
   "execution_count": 57,
   "id": "e696bc33",
   "metadata": {},
   "outputs": [
    {
     "name": "stdout",
     "output_type": "stream",
     "text": [
      "{'author 1': ['book 1'], 'author 2': ['book 2', 'book 4'], 'author 3': ['book 3']}\n"
     ]
    }
   ],
   "source": [
    "books = [('book 1', 'author 1'), ('book 2', 'author 2'), ('book 3', 'author 3'), ('book 4', 'author 2')]\n",
    "\n",
    "def authors(books):\n",
    "    author_to_titles = {}\n",
    "    titles = []\n",
    "    author_list = []\n",
    "    for title, author in books:\n",
    "        for loop to iterate over the list of book tuples. For each tuple, the title variable is set to the first element of the tuple (i.e., the book title), and the author variable is set to the second element of the tuple (i.e., the author's name).\n",
    "        if author in author_to_titles:\n",
    "            author_to_titles[author].append(title)\n",
    "        else:\n",
    "            author_to_titles[author] = [title]\n",
    "    return author_to_titles\n",
    "\n",
    "print(authors(books))"
   ]
  }
 ],
 "metadata": {
  "kernelspec": {
   "display_name": "Python 3 (ipykernel)",
   "language": "python",
   "name": "python3"
  },
  "language_info": {
   "codemirror_mode": {
    "name": "ipython",
    "version": 3
   },
   "file_extension": ".py",
   "mimetype": "text/x-python",
   "name": "python",
   "nbconvert_exporter": "python",
   "pygments_lexer": "ipython3",
   "version": "3.9.13"
  }
 },
 "nbformat": 4,
 "nbformat_minor": 5
}
