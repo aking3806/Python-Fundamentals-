{
 "cells": [
  {
   "cell_type": "code",
   "execution_count": 2,
   "id": "43194742",
   "metadata": {},
   "outputs": [
    {
     "name": "stdout",
     "output_type": "stream",
     "text": [
      "Collecting arxivscraper\n",
      "  Downloading arxivscraper-0.0.5-py3-none-any.whl (6.1 kB)\n",
      "Installing collected packages: arxivscraper\n",
      "Successfully installed arxivscraper-0.0.5\n",
      "Note: you may need to restart the kernel to use updated packages.\n"
     ]
    }
   ],
   "source": [
    "pip install arxivscraper"
   ]
  },
  {
   "cell_type": "code",
   "execution_count": 3,
   "id": "018434b4",
   "metadata": {},
   "outputs": [],
   "source": [
    "import arxivscraper\n",
    "scraper = arxivscraper.Scraper(category='physics:cond-mat', date_from='2023-03-23',date_until='2023-03-35')"
   ]
  },
  {
   "cell_type": "code",
   "execution_count": 4,
   "id": "46619b0f",
   "metadata": {},
   "outputs": [
    {
     "name": "stdout",
     "output_type": "stream",
     "text": [
      "fetching up to  1000 records...\n",
      "fetching is completed in 4.2 seconds.\n",
      "Total number of records 265\n"
     ]
    }
   ],
   "source": [
    "output = scraper.scrape()\n"
   ]
  },
  {
   "cell_type": "code",
   "execution_count": 5,
   "id": "44c32703",
   "metadata": {},
   "outputs": [],
   "source": [
    "import pandas as pd\n",
    "cols = ('id', 'title', 'categories', 'abstract', 'doi', 'created', 'updated', 'authors')\n",
    "df = pd.DataFrame(output,columns=cols)"
   ]
  }
 ],
 "metadata": {
  "kernelspec": {
   "display_name": "Python 3 (ipykernel)",
   "language": "python",
   "name": "python3"
  },
  "language_info": {
   "codemirror_mode": {
    "name": "ipython",
    "version": 3
   },
   "file_extension": ".py",
   "mimetype": "text/x-python",
   "name": "python",
   "nbconvert_exporter": "python",
   "pygments_lexer": "ipython3",
   "version": "3.9.13"
  }
 },
 "nbformat": 4,
 "nbformat_minor": 5
}
