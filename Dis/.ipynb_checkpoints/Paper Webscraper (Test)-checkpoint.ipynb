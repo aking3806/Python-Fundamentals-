{
 "cells": [
  {
   "cell_type": "code",
   "execution_count": 2,
   "id": "f4cb976f",
   "metadata": {},
   "outputs": [],
   "source": [
    "import requests\n",
    "from bs4 import BeautifulSoup\n",
    "import csv\n",
    "import datetime"
   ]
  },
  {
   "cell_type": "code",
   "execution_count": null,
   "id": "db9ad288",
   "metadata": {},
   "outputs": [],
   "source": [
    "#define daterange \n",
    "\n",
    "url = \"https://arxiv.org/list/cs.HC/recent\"\n",
    "start_date = datetime.date(2013, 3, 20)\n",
    "end_date = datetime.date.today()"
   ]
  },
  {
   "cell_type": "markdown",
   "id": "c81aed98",
   "metadata": {},
   "source": [
    "Step 3: Define the function to extract the research paper information"
   ]
  },
  {
   "cell_type": "code",
   "execution_count": 4,
   "id": "a56e39de",
   "metadata": {},
   "outputs": [],
   "source": [
    "def extract_paper_info(html, keywords):\n",
    "    soup = BeautifulSoup(html, \"html.parser\")\n",
    "    papers = soup.find_all(\"li\", class_=\"arxiv-result\")\n",
    "    paper_info_list = []\n",
    "\n",
    "    for paper in papers:\n",
    "        paper_info = {}\n",
    "        paper_info[\"title\"] = paper.find(\"div\", class_=\"list-title mathjax\").text.strip()\n",
    "        paper_info[\"authors\"] = paper.find(\"div\", class_=\"list-authors\").text.strip().replace(\"\\n\", \", \")\n",
    "        paper_info[\"abstract\"] = paper.find(\"p\", class_=\"mathjax\").text.strip()\n",
    "        paper_info[\"submission_date\"] = paper.find(\"div\", class_=\"list-dateline\").text.strip()\n",
    "\n",
    "        matched_keywords = []\n",
    "        for keyword in keywords:\n",
    "            if keyword.lower() in paper_info[\"title\"].lower() or keyword.lower() in paper_info[\"abstract\"].lower():\n",
    "                matched_keywords.append(keyword)\n",
    "        if matched_keywords:\n",
    "            paper_info[\"matched_keywords\"] = \", \".join(matched_keywords)\n",
    "            paper_info[\"keywords_flag\"] = True\n",
    "        else:\n",
    "            paper_info[\"matched_keywords\"] = \"\"\n",
    "            paper_info[\"keywords_flag\"] = False\n",
    "        \n",
    "        paper_info_list.append(paper_info)\n",
    "\n",
    "    return paper_info_list\n"
   ]
  },
  {
   "cell_type": "code",
   "execution_count": null,
   "id": "d20e99c7",
   "metadata": {},
   "outputs": [],
   "source": []
  },
  {
   "cell_type": "code",
   "execution_count": 5,
   "id": "513d1082",
   "metadata": {},
   "outputs": [],
   "source": [
    "def save_to_csv(paper_info_list, directory):\n",
    "    date_string = datetime.datetime.today().strftime('%Y-%m-%d')\n",
    "    filename = f\"{directory}/arxiv_{date_string}.csv\"\n",
    "\n",
    "    with open(filename, \"w\", newline=\"\", encoding=\"utf-8\") as csv_file:\n",
    "        writer = csv.DictWriter(csv_file, fieldnames=[\"title\", \"authors\", \"abstract\", \"submission_date\", \"keywords_flag\", \"matched_keywords\"])\n",
    "        writer.writeheader()\n",
    "        writer.writerows(paper_info_list)"
   ]
  },
  {
   "cell_type": "code",
   "execution_count": null,
   "id": "a7cbe6fb",
   "metadata": {},
   "outputs": [],
   "source": []
  },
  {
   "cell_type": "code",
   "execution_count": 6,
   "id": "f10c94d3",
   "metadata": {},
   "outputs": [],
   "source": [
    "keywords = [\"cognitive bias\", \"psychology\", \"human-ai interaction\", \"human behavior\", \"behavioral science\", \"heuristics\"]\n",
    "directory = \"/Users/annaking/Documents/LSE/Dissertation\""
   ]
  },
  {
   "cell_type": "code",
   "execution_count": null,
   "id": "28c8af6c",
   "metadata": {},
   "outputs": [],
   "source": []
  },
  {
   "cell_type": "code",
   "execution_count": null,
   "id": "e0b01fec",
   "metadata": {},
   "outputs": [],
   "source": [
    "date = start_date\n",
    "while date <= end_date:\n",
    "    date_str = date.strftime(\"%y%m%d\")\n",
    "    page_url = f\"{url}/{date_str}\"\n",
    "    response = requests.get(page_url)\n",
    "\n",
    "    if response.status_code == 200:\n",
    "        paper_info_list = extract_paper_info(response.content, keywords)\n",
    "        save_to_csv(paper_info_list, directory)\n",
    "        print(f\"Scraped data for {date}\")\n",
    "    else:\n",
    "        print(f\"Failed to scrape data for {date}\")\n",
    "    \n",
    "    date += datetime.timedelta(days=1)"
   ]
  }
 ],
 "metadata": {
  "kernelspec": {
   "display_name": "Python 3 (ipykernel)",
   "language": "python",
   "name": "python3"
  },
  "language_info": {
   "codemirror_mode": {
    "name": "ipython",
    "version": 3
   },
   "file_extension": ".py",
   "mimetype": "text/x-python",
   "name": "python",
   "nbconvert_exporter": "python",
   "pygments_lexer": "ipython3",
   "version": "3.9.13"
  }
 },
 "nbformat": 4,
 "nbformat_minor": 5
}
