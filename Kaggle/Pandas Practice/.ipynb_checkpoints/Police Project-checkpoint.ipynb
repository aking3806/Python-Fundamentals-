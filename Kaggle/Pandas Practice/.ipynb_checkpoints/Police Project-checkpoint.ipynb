{
 "cells": [
  {
   "cell_type": "code",
   "execution_count": null,
   "id": "1addb860",
   "metadata": {},
   "outputs": [],
   "source": [
    "'''\n",
    "Do men or women speed more often?\n",
    "'''\n",
    "#https://www.kaggle.com/code/faressayah/data-science-best-practices-with-pandas-part-2/notebook#%F0%9F%8C%86-Do-most-stops-occur-at-night?"
   ]
  },
  {
   "cell_type": "code",
   "execution_count": 57,
   "id": "9a671481",
   "metadata": {},
   "outputs": [],
   "source": [
    "import pandas as pd\n",
    "import numpy as np\n",
    "import matplotlib.pyplot as plt\n",
    "import seaborn as sns"
   ]
  },
  {
   "cell_type": "code",
   "execution_count": 202,
   "id": "01ecdff8",
   "metadata": {},
   "outputs": [
    {
     "data": {
      "text/html": [
       "<div>\n",
       "<style scoped>\n",
       "    .dataframe tbody tr th:only-of-type {\n",
       "        vertical-align: middle;\n",
       "    }\n",
       "\n",
       "    .dataframe tbody tr th {\n",
       "        vertical-align: top;\n",
       "    }\n",
       "\n",
       "    .dataframe thead th {\n",
       "        text-align: right;\n",
       "    }\n",
       "</style>\n",
       "<table border=\"1\" class=\"dataframe\">\n",
       "  <thead>\n",
       "    <tr style=\"text-align: right;\">\n",
       "      <th></th>\n",
       "      <th>stop_date</th>\n",
       "      <th>stop_time</th>\n",
       "      <th>county_name</th>\n",
       "      <th>driver_gender</th>\n",
       "      <th>driver_age_raw</th>\n",
       "      <th>driver_age</th>\n",
       "      <th>driver_race</th>\n",
       "      <th>violation_raw</th>\n",
       "      <th>violation</th>\n",
       "      <th>search_conducted</th>\n",
       "      <th>search_type</th>\n",
       "      <th>stop_outcome</th>\n",
       "      <th>is_arrested</th>\n",
       "      <th>stop_duration</th>\n",
       "      <th>drugs_related_stop</th>\n",
       "    </tr>\n",
       "  </thead>\n",
       "  <tbody>\n",
       "    <tr>\n",
       "      <th>0</th>\n",
       "      <td>2005-01-02</td>\n",
       "      <td>01:55</td>\n",
       "      <td>NaN</td>\n",
       "      <td>M</td>\n",
       "      <td>1985.0</td>\n",
       "      <td>20.0</td>\n",
       "      <td>White</td>\n",
       "      <td>Speeding</td>\n",
       "      <td>Speeding</td>\n",
       "      <td>False</td>\n",
       "      <td>NaN</td>\n",
       "      <td>Citation</td>\n",
       "      <td>False</td>\n",
       "      <td>0-15 Min</td>\n",
       "      <td>False</td>\n",
       "    </tr>\n",
       "    <tr>\n",
       "      <th>1</th>\n",
       "      <td>2005-01-18</td>\n",
       "      <td>08:15</td>\n",
       "      <td>NaN</td>\n",
       "      <td>M</td>\n",
       "      <td>1965.0</td>\n",
       "      <td>40.0</td>\n",
       "      <td>White</td>\n",
       "      <td>Speeding</td>\n",
       "      <td>Speeding</td>\n",
       "      <td>False</td>\n",
       "      <td>NaN</td>\n",
       "      <td>Citation</td>\n",
       "      <td>False</td>\n",
       "      <td>0-15 Min</td>\n",
       "      <td>False</td>\n",
       "    </tr>\n",
       "    <tr>\n",
       "      <th>2</th>\n",
       "      <td>2005-01-23</td>\n",
       "      <td>23:15</td>\n",
       "      <td>NaN</td>\n",
       "      <td>M</td>\n",
       "      <td>1972.0</td>\n",
       "      <td>33.0</td>\n",
       "      <td>White</td>\n",
       "      <td>Speeding</td>\n",
       "      <td>Speeding</td>\n",
       "      <td>False</td>\n",
       "      <td>NaN</td>\n",
       "      <td>Citation</td>\n",
       "      <td>False</td>\n",
       "      <td>0-15 Min</td>\n",
       "      <td>False</td>\n",
       "    </tr>\n",
       "    <tr>\n",
       "      <th>3</th>\n",
       "      <td>2005-02-20</td>\n",
       "      <td>17:15</td>\n",
       "      <td>NaN</td>\n",
       "      <td>M</td>\n",
       "      <td>1986.0</td>\n",
       "      <td>19.0</td>\n",
       "      <td>White</td>\n",
       "      <td>Call for Service</td>\n",
       "      <td>Other</td>\n",
       "      <td>False</td>\n",
       "      <td>NaN</td>\n",
       "      <td>Arrest Driver</td>\n",
       "      <td>True</td>\n",
       "      <td>16-30 Min</td>\n",
       "      <td>False</td>\n",
       "    </tr>\n",
       "    <tr>\n",
       "      <th>4</th>\n",
       "      <td>2005-03-14</td>\n",
       "      <td>10:00</td>\n",
       "      <td>NaN</td>\n",
       "      <td>F</td>\n",
       "      <td>1984.0</td>\n",
       "      <td>21.0</td>\n",
       "      <td>White</td>\n",
       "      <td>Speeding</td>\n",
       "      <td>Speeding</td>\n",
       "      <td>False</td>\n",
       "      <td>NaN</td>\n",
       "      <td>Citation</td>\n",
       "      <td>False</td>\n",
       "      <td>0-15 Min</td>\n",
       "      <td>False</td>\n",
       "    </tr>\n",
       "  </tbody>\n",
       "</table>\n",
       "</div>"
      ],
      "text/plain": [
       "    stop_date stop_time  county_name driver_gender  driver_age_raw  \\\n",
       "0  2005-01-02     01:55          NaN             M          1985.0   \n",
       "1  2005-01-18     08:15          NaN             M          1965.0   \n",
       "2  2005-01-23     23:15          NaN             M          1972.0   \n",
       "3  2005-02-20     17:15          NaN             M          1986.0   \n",
       "4  2005-03-14     10:00          NaN             F          1984.0   \n",
       "\n",
       "   driver_age driver_race     violation_raw violation  search_conducted  \\\n",
       "0        20.0       White          Speeding  Speeding             False   \n",
       "1        40.0       White          Speeding  Speeding             False   \n",
       "2        33.0       White          Speeding  Speeding             False   \n",
       "3        19.0       White  Call for Service     Other             False   \n",
       "4        21.0       White          Speeding  Speeding             False   \n",
       "\n",
       "  search_type   stop_outcome is_arrested stop_duration  drugs_related_stop  \n",
       "0         NaN       Citation       False      0-15 Min               False  \n",
       "1         NaN       Citation       False      0-15 Min               False  \n",
       "2         NaN       Citation       False      0-15 Min               False  \n",
       "3         NaN  Arrest Driver        True     16-30 Min               False  \n",
       "4         NaN       Citation       False      0-15 Min               False  "
      ]
     },
     "execution_count": 202,
     "metadata": {},
     "output_type": "execute_result"
    }
   ],
   "source": [
    "df = pd.read_csv(\"police_project.csv\")\n",
    "df.head()"
   ]
  },
  {
   "cell_type": "code",
   "execution_count": 59,
   "id": "e3f286e0",
   "metadata": {},
   "outputs": [
    {
     "name": "stdout",
     "output_type": "stream",
     "text": [
      "The dataset has 91741 rows\n",
      "The dataset has 15 columns\n"
     ]
    }
   ],
   "source": [
    "print(\"The dataset has {} rows\".format(df.shape[0]))\n",
    "print(\"The dataset has {} columns\".format(df.shape[1]))"
   ]
  },
  {
   "cell_type": "code",
   "execution_count": null,
   "id": "8bce201a",
   "metadata": {},
   "outputs": [],
   "source": []
  },
  {
   "cell_type": "code",
   "execution_count": 60,
   "id": "bcb18168",
   "metadata": {},
   "outputs": [
    {
     "name": "stdout",
     "output_type": "stream",
     "text": [
      "<class 'pandas.core.frame.DataFrame'>\n",
      "RangeIndex: 91741 entries, 0 to 91740\n",
      "Data columns (total 15 columns):\n",
      " #   Column              Non-Null Count  Dtype  \n",
      "---  ------              --------------  -----  \n",
      " 0   stop_date           91741 non-null  object \n",
      " 1   stop_time           91741 non-null  object \n",
      " 2   county_name         0 non-null      float64\n",
      " 3   driver_gender       86406 non-null  object \n",
      " 4   driver_age_raw      86414 non-null  float64\n",
      " 5   driver_age          86120 non-null  float64\n",
      " 6   driver_race         86408 non-null  object \n",
      " 7   violation_raw       86408 non-null  object \n",
      " 8   violation           86408 non-null  object \n",
      " 9   search_conducted    91741 non-null  bool   \n",
      " 10  search_type         3196 non-null   object \n",
      " 11  stop_outcome        86408 non-null  object \n",
      " 12  is_arrested         86408 non-null  object \n",
      " 13  stop_duration       86408 non-null  object \n",
      " 14  drugs_related_stop  91741 non-null  bool   \n",
      "dtypes: bool(2), float64(3), object(10)\n",
      "memory usage: 9.3+ MB\n"
     ]
    }
   ],
   "source": [
    "df.info()"
   ]
  },
  {
   "cell_type": "code",
   "execution_count": 61,
   "id": "90c85606",
   "metadata": {},
   "outputs": [],
   "source": [
    "####variables of interest for primary question\n",
    "\n",
    "#violation == 'Speeding'\n",
    "#driver_gender"
   ]
  },
  {
   "cell_type": "code",
   "execution_count": 127,
   "id": "724ce5ab",
   "metadata": {},
   "outputs": [
    {
     "data": {
      "text/html": [
       "<div>\n",
       "<style scoped>\n",
       "    .dataframe tbody tr th:only-of-type {\n",
       "        vertical-align: middle;\n",
       "    }\n",
       "\n",
       "    .dataframe tbody tr th {\n",
       "        vertical-align: top;\n",
       "    }\n",
       "\n",
       "    .dataframe thead th {\n",
       "        text-align: right;\n",
       "    }\n",
       "</style>\n",
       "<table border=\"1\" class=\"dataframe\">\n",
       "  <thead>\n",
       "    <tr style=\"text-align: right;\">\n",
       "      <th></th>\n",
       "      <th>driver_age_raw</th>\n",
       "      <th>driver_age</th>\n",
       "      <th>stop_month</th>\n",
       "    </tr>\n",
       "  </thead>\n",
       "  <tbody>\n",
       "    <tr>\n",
       "      <th>count</th>\n",
       "      <td>48463.000000</td>\n",
       "      <td>48361.000000</td>\n",
       "      <td>48463.000000</td>\n",
       "    </tr>\n",
       "    <tr>\n",
       "      <th>mean</th>\n",
       "      <td>1973.166024</td>\n",
       "      <td>33.530097</td>\n",
       "      <td>6.492520</td>\n",
       "    </tr>\n",
       "    <tr>\n",
       "      <th>std</th>\n",
       "      <td>85.236923</td>\n",
       "      <td>12.821847</td>\n",
       "      <td>3.488034</td>\n",
       "    </tr>\n",
       "    <tr>\n",
       "      <th>min</th>\n",
       "      <td>0.000000</td>\n",
       "      <td>15.000000</td>\n",
       "      <td>1.000000</td>\n",
       "    </tr>\n",
       "    <tr>\n",
       "      <th>25%</th>\n",
       "      <td>1967.000000</td>\n",
       "      <td>23.000000</td>\n",
       "      <td>3.000000</td>\n",
       "    </tr>\n",
       "    <tr>\n",
       "      <th>50%</th>\n",
       "      <td>1980.000000</td>\n",
       "      <td>30.000000</td>\n",
       "      <td>6.000000</td>\n",
       "    </tr>\n",
       "    <tr>\n",
       "      <th>75%</th>\n",
       "      <td>1986.000000</td>\n",
       "      <td>42.000000</td>\n",
       "      <td>10.000000</td>\n",
       "    </tr>\n",
       "    <tr>\n",
       "      <th>max</th>\n",
       "      <td>8801.000000</td>\n",
       "      <td>90.000000</td>\n",
       "      <td>12.000000</td>\n",
       "    </tr>\n",
       "  </tbody>\n",
       "</table>\n",
       "</div>"
      ],
      "text/plain": [
       "       driver_age_raw    driver_age    stop_month\n",
       "count    48463.000000  48361.000000  48463.000000\n",
       "mean      1973.166024     33.530097      6.492520\n",
       "std         85.236923     12.821847      3.488034\n",
       "min          0.000000     15.000000      1.000000\n",
       "25%       1967.000000     23.000000      3.000000\n",
       "50%       1980.000000     30.000000      6.000000\n",
       "75%       1986.000000     42.000000     10.000000\n",
       "max       8801.000000     90.000000     12.000000"
      ]
     },
     "execution_count": 127,
     "metadata": {},
     "output_type": "execute_result"
    }
   ],
   "source": [
    "df.describe()"
   ]
  },
  {
   "cell_type": "code",
   "execution_count": 73,
   "id": "6631e1f6",
   "metadata": {},
   "outputs": [
    {
     "data": {
      "text/plain": [
       "stop_date                 0\n",
       "stop_time                 0\n",
       "county_name           91741\n",
       "driver_gender          5335\n",
       "driver_age_raw         5327\n",
       "driver_age             5621\n",
       "driver_race            5333\n",
       "violation_raw          5333\n",
       "violation              5333\n",
       "search_conducted          0\n",
       "search_type           88545\n",
       "stop_outcome           5333\n",
       "is_arrested            5333\n",
       "stop_duration          5333\n",
       "drugs_related_stop        0\n",
       "dtype: int64"
      ]
     },
     "execution_count": 73,
     "metadata": {},
     "output_type": "execute_result"
    }
   ],
   "source": [
    "#Count of NA values by column \n",
    "\n",
    "df.isnull().sum()\n",
    "\n",
    "#Another method (identical)\n",
    "#df.isna().sum()"
   ]
  },
  {
   "cell_type": "code",
   "execution_count": 64,
   "id": "ba69297d",
   "metadata": {},
   "outputs": [
    {
     "data": {
      "text/plain": [
       "Index(['stop_date', 'stop_time', 'county_name', 'driver_gender',\n",
       "       'driver_age_raw', 'driver_age', 'driver_race', 'violation_raw',\n",
       "       'violation', 'search_conducted', 'search_type', 'stop_outcome',\n",
       "       'is_arrested', 'stop_duration', 'drugs_related_stop'],\n",
       "      dtype='object')"
      ]
     },
     "execution_count": 64,
     "metadata": {},
     "output_type": "execute_result"
    }
   ],
   "source": [
    "#Index of column names \n",
    "df.columns"
   ]
  },
  {
   "cell_type": "code",
   "execution_count": 74,
   "id": "53290f3e",
   "metadata": {},
   "outputs": [
    {
     "name": "stdout",
     "output_type": "stream",
     "text": [
      "stop_date           :====> 0.00%\n",
      "stop_time           :====> 0.00%\n",
      "county_name         :====> 100.00%\n",
      "driver_gender       :====> 5.82%\n",
      "driver_age_raw      :====> 5.81%\n",
      "driver_age          :====> 6.13%\n",
      "driver_race         :====> 5.81%\n",
      "violation_raw       :====> 5.81%\n",
      "violation           :====> 5.81%\n",
      "search_conducted    :====> 0.00%\n",
      "search_type         :====> 96.52%\n",
      "stop_outcome        :====> 5.81%\n",
      "is_arrested         :====> 5.81%\n",
      "stop_duration       :====> 5.81%\n",
      "drugs_related_stop  :====> 0.00%\n"
     ]
    }
   ],
   "source": [
    "#Calculate Percentage of Data Missing in Each Column \n",
    "\n",
    "#iterate over each column in the dataframe (called using df.columns)\n",
    "for column in df: \n",
    "    #set variable = value of missing data\n",
    "    missing = df[column].isna().sum()/df.shape[0]\n",
    "    print(f\"{column:{20}}:====> {missing * 100:.2f}%\")\n",
    "    \n",
    "    #documentation here on f strings: http://cissandbox.bentley.edu/sandbox/wp-content/uploads/2022-02-10-Documentation-on-f-strings-Updated.pdf"
   ]
  },
  {
   "cell_type": "code",
   "execution_count": 203,
   "id": "67d31cf8",
   "metadata": {},
   "outputs": [
    {
     "data": {
      "text/plain": [
       "0       NaN\n",
       "1       NaN\n",
       "2       NaN\n",
       "3       NaN\n",
       "4       NaN\n",
       "         ..\n",
       "91736   NaN\n",
       "91737   NaN\n",
       "91738   NaN\n",
       "91739   NaN\n",
       "91740   NaN\n",
       "Name: county_name, Length: 91741, dtype: float64"
      ]
     },
     "execution_count": 203,
     "metadata": {},
     "output_type": "execute_result"
    }
   ],
   "source": [
    "#Method 1: Drop county_name as all data is missing \n",
    "#df_clean = df\n",
    "df.pop('county_name')"
   ]
  },
  {
   "cell_type": "code",
   "execution_count": 76,
   "id": "ce4526ac",
   "metadata": {},
   "outputs": [
    {
     "data": {
      "text/plain": [
       "(91741, 14)"
      ]
     },
     "execution_count": 76,
     "metadata": {},
     "output_type": "execute_result"
    }
   ],
   "source": [
    "df.shape"
   ]
  },
  {
   "cell_type": "code",
   "execution_count": 68,
   "id": "b7f0f95c",
   "metadata": {},
   "outputs": [
    {
     "data": {
      "text/plain": [
       "Index(['stop_date', 'stop_time', 'driver_gender', 'driver_age_raw',\n",
       "       'driver_age', 'driver_race', 'violation_raw', 'violation',\n",
       "       'search_conducted', 'search_type', 'stop_outcome', 'is_arrested',\n",
       "       'stop_duration', 'drugs_related_stop'],\n",
       "      dtype='object')"
      ]
     },
     "execution_count": 68,
     "metadata": {},
     "output_type": "execute_result"
    }
   ],
   "source": [
    "df.columns"
   ]
  },
  {
   "cell_type": "code",
   "execution_count": 29,
   "id": "24d5bf57",
   "metadata": {},
   "outputs": [],
   "source": [
    "#---------\n",
    "# 1 - Main Analysis - do women speed more than men?\n",
    "#--------"
   ]
  },
  {
   "cell_type": "code",
   "execution_count": null,
   "id": "b7bd33c2",
   "metadata": {},
   "outputs": [],
   "source": [
    "'''\n",
    "KEY THING TO REMEMBER: \n",
    "Responding to this question, \n",
    "we must take consideration of the non-equivalent distribution of the data or use fraction.\n",
    "\n",
    "'''"
   ]
  },
  {
   "cell_type": "code",
   "execution_count": 189,
   "id": "920e6365",
   "metadata": {},
   "outputs": [
    {
     "data": {
      "text/html": [
       "<div>\n",
       "<style scoped>\n",
       "    .dataframe tbody tr th:only-of-type {\n",
       "        vertical-align: middle;\n",
       "    }\n",
       "\n",
       "    .dataframe tbody tr th {\n",
       "        vertical-align: top;\n",
       "    }\n",
       "\n",
       "    .dataframe thead th {\n",
       "        text-align: right;\n",
       "    }\n",
       "</style>\n",
       "<table border=\"1\" class=\"dataframe\">\n",
       "  <thead>\n",
       "    <tr style=\"text-align: right;\">\n",
       "      <th></th>\n",
       "      <th>driver_gender</th>\n",
       "    </tr>\n",
       "  </thead>\n",
       "  <tbody>\n",
       "    <tr>\n",
       "      <th>M</th>\n",
       "      <td>32979</td>\n",
       "    </tr>\n",
       "    <tr>\n",
       "      <th>F</th>\n",
       "      <td>15482</td>\n",
       "    </tr>\n",
       "  </tbody>\n",
       "</table>\n",
       "</div>"
      ],
      "text/plain": [
       "   driver_gender\n",
       "M          32979\n",
       "F          15482"
      ]
     },
     "execution_count": 189,
     "metadata": {},
     "output_type": "execute_result"
    }
   ],
   "source": [
    "#Number of Men & Women Speeding \n",
    "df[df.violation == 'Speeding'].driver_gender.value_counts().to_frame()"
   ]
  },
  {
   "cell_type": "code",
   "execution_count": null,
   "id": "49497c4f",
   "metadata": {},
   "outputs": [],
   "source": [
    "'Now Get % of Men & Woman Speeding'"
   ]
  },
  {
   "cell_type": "code",
   "execution_count": 191,
   "id": "fe24905f",
   "metadata": {},
   "outputs": [
    {
     "data": {
      "text/html": [
       "<div>\n",
       "<style scoped>\n",
       "    .dataframe tbody tr th:only-of-type {\n",
       "        vertical-align: middle;\n",
       "    }\n",
       "\n",
       "    .dataframe tbody tr th {\n",
       "        vertical-align: top;\n",
       "    }\n",
       "\n",
       "    .dataframe thead th {\n",
       "        text-align: right;\n",
       "    }\n",
       "</style>\n",
       "<table border=\"1\" class=\"dataframe\">\n",
       "  <thead>\n",
       "    <tr style=\"text-align: right;\">\n",
       "      <th></th>\n",
       "      <th>driver_gender</th>\n",
       "    </tr>\n",
       "  </thead>\n",
       "  <tbody>\n",
       "    <tr>\n",
       "      <th>M</th>\n",
       "      <td>0.680527</td>\n",
       "    </tr>\n",
       "    <tr>\n",
       "      <th>F</th>\n",
       "      <td>0.319473</td>\n",
       "    </tr>\n",
       "  </tbody>\n",
       "</table>\n",
       "</div>"
      ],
      "text/plain": [
       "   driver_gender\n",
       "M       0.680527\n",
       "F       0.319473"
      ]
     },
     "execution_count": 191,
     "metadata": {},
     "output_type": "execute_result"
    }
   ],
   "source": [
    "#Number of Men & Women Speeding (%)\n",
    "\n",
    "    #normalize = true returns the relative frequencies of each value \n",
    "df[df.violation == 'Speeding'].driver_gender.value_counts(normalize=True).to_frame()"
   ]
  },
  {
   "cell_type": "code",
   "execution_count": 201,
   "id": "3bebe842",
   "metadata": {},
   "outputs": [],
   "source": [
    "#Violation = Speeding only df \n",
    "df_vio = df[df['violation'] == 'Speeding'] "
   ]
  },
  {
   "cell_type": "code",
   "execution_count": null,
   "id": "d47fc575",
   "metadata": {},
   "outputs": [],
   "source": []
  },
  {
   "cell_type": "code",
   "execution_count": 192,
   "id": "56a0a236",
   "metadata": {},
   "outputs": [],
   "source": [
    "data = df_vio.groupby('driver_gender').violation.count().to_frame().reset_index()"
   ]
  },
  {
   "cell_type": "code",
   "execution_count": 193,
   "id": "f1ffa546",
   "metadata": {},
   "outputs": [
    {
     "data": {
      "image/png": "[encoded data removed]",
      "text/plain": [
       "<Figure size 600x400 with 1 Axes>"
      ]
     },
     "metadata": {},
     "output_type": "display_data"
    }
   ],
   "source": [
    "##Barplot of Number of Men & Women with Speeding Violations \n",
    "sns.set_theme()\n",
    "figure = plt.figure(figsize=(6,4))\n",
    "sns.barplot(x='driver_gender', y = 'violation', data = data )\n",
    "plt.xlabel(\"Gender\")\n",
    "plt.ylabel(\"Violations\")\n",
    "plt.title(\"Number of Men & Women Speeding\")\n",
    "plt.show()"
   ]
  },
  {
   "cell_type": "code",
   "execution_count": 173,
   "id": "49c1299d",
   "metadata": {},
   "outputs": [
    {
     "data": {
      "text/html": [
       "<div>\n",
       "<style scoped>\n",
       "    .dataframe tbody tr th:only-of-type {\n",
       "        vertical-align: middle;\n",
       "    }\n",
       "\n",
       "    .dataframe tbody tr th {\n",
       "        vertical-align: top;\n",
       "    }\n",
       "\n",
       "    .dataframe thead th {\n",
       "        text-align: right;\n",
       "    }\n",
       "</style>\n",
       "<table border=\"1\" class=\"dataframe\">\n",
       "  <thead>\n",
       "    <tr style=\"text-align: right;\">\n",
       "      <th></th>\n",
       "      <th>stop_outcome</th>\n",
       "      <th>violation</th>\n",
       "      <th>total</th>\n",
       "      <th>% of total</th>\n",
       "      <th>gender</th>\n",
       "    </tr>\n",
       "  </thead>\n",
       "  <tbody>\n",
       "    <tr>\n",
       "      <th>0</th>\n",
       "      <td>Arrest Driver</td>\n",
       "      <td>500</td>\n",
       "      <td>32979</td>\n",
       "      <td>0.015161</td>\n",
       "      <td>M</td>\n",
       "    </tr>\n",
       "    <tr>\n",
       "      <th>1</th>\n",
       "      <td>Arrest Passenger</td>\n",
       "      <td>41</td>\n",
       "      <td>32979</td>\n",
       "      <td>0.001243</td>\n",
       "      <td>M</td>\n",
       "    </tr>\n",
       "    <tr>\n",
       "      <th>2</th>\n",
       "      <td>Citation</td>\n",
       "      <td>31205</td>\n",
       "      <td>32979</td>\n",
       "      <td>0.946208</td>\n",
       "      <td>M</td>\n",
       "    </tr>\n",
       "    <tr>\n",
       "      <th>3</th>\n",
       "      <td>N/D</td>\n",
       "      <td>35</td>\n",
       "      <td>32979</td>\n",
       "      <td>0.001061</td>\n",
       "      <td>M</td>\n",
       "    </tr>\n",
       "    <tr>\n",
       "      <th>4</th>\n",
       "      <td>No Action</td>\n",
       "      <td>35</td>\n",
       "      <td>32979</td>\n",
       "      <td>0.001061</td>\n",
       "      <td>M</td>\n",
       "    </tr>\n",
       "    <tr>\n",
       "      <th>5</th>\n",
       "      <td>Warning</td>\n",
       "      <td>1163</td>\n",
       "      <td>32979</td>\n",
       "      <td>0.035265</td>\n",
       "      <td>M</td>\n",
       "    </tr>\n",
       "    <tr>\n",
       "      <th>6</th>\n",
       "      <td>Arrest Driver</td>\n",
       "      <td>83</td>\n",
       "      <td>15482</td>\n",
       "      <td>0.005361</td>\n",
       "      <td>F</td>\n",
       "    </tr>\n",
       "    <tr>\n",
       "      <th>7</th>\n",
       "      <td>Arrest Passenger</td>\n",
       "      <td>13</td>\n",
       "      <td>15482</td>\n",
       "      <td>0.000840</td>\n",
       "      <td>F</td>\n",
       "    </tr>\n",
       "    <tr>\n",
       "      <th>8</th>\n",
       "      <td>Citation</td>\n",
       "      <td>14748</td>\n",
       "      <td>15482</td>\n",
       "      <td>0.952590</td>\n",
       "      <td>F</td>\n",
       "    </tr>\n",
       "    <tr>\n",
       "      <th>9</th>\n",
       "      <td>N/D</td>\n",
       "      <td>13</td>\n",
       "      <td>15482</td>\n",
       "      <td>0.000840</td>\n",
       "      <td>F</td>\n",
       "    </tr>\n",
       "    <tr>\n",
       "      <th>10</th>\n",
       "      <td>No Action</td>\n",
       "      <td>7</td>\n",
       "      <td>15482</td>\n",
       "      <td>0.000452</td>\n",
       "      <td>F</td>\n",
       "    </tr>\n",
       "    <tr>\n",
       "      <th>11</th>\n",
       "      <td>Warning</td>\n",
       "      <td>618</td>\n",
       "      <td>15482</td>\n",
       "      <td>0.039917</td>\n",
       "      <td>F</td>\n",
       "    </tr>\n",
       "  </tbody>\n",
       "</table>\n",
       "</div>"
      ],
      "text/plain": [
       "        stop_outcome  violation  total  % of total gender\n",
       "0      Arrest Driver        500  32979    0.015161      M\n",
       "1   Arrest Passenger         41  32979    0.001243      M\n",
       "2           Citation      31205  32979    0.946208      M\n",
       "3                N/D         35  32979    0.001061      M\n",
       "4          No Action         35  32979    0.001061      M\n",
       "5            Warning       1163  32979    0.035265      M\n",
       "6      Arrest Driver         83  15482    0.005361      F\n",
       "7   Arrest Passenger         13  15482    0.000840      F\n",
       "8           Citation      14748  15482    0.952590      F\n",
       "9                N/D         13  15482    0.000840      F\n",
       "10         No Action          7  15482    0.000452      F\n",
       "11           Warning        618  15482    0.039917      F"
      ]
     },
     "execution_count": 173,
     "metadata": {},
     "output_type": "execute_result"
    }
   ],
   "source": [
    "#Look at Violations by Stop Outcome for Each gender \n",
    "#df_vio.groupby(['driver_gender','stop_outcome']).violation.count().to_frame()\n",
    "\n",
    "#create dataframe of female only and male only \n",
    "df_male = df_vio[df_vio['driver_gender'] == 'M']\n",
    "df_female = df_vio[df_vio['driver_gender'] == 'F']\n",
    "\n",
    "#create dataframes of violation by stop_outcome\n",
    "df_aggm = df_male.groupby('stop_outcome').violation.count().to_frame().reset_index()\n",
    "df_aggf = df_female.groupby('stop_outcome').violation.count().to_frame().reset_index()\n",
    "\n",
    "#calc % of each outcome of total violations \n",
    "df_aggm['total'] = df_aggm.violation.sum()\n",
    "df_aggm['% of total'] = df_aggm['violation']/df_aggm['total']\n",
    "df_aggm['gender'] = 'M'\n",
    "\n",
    "df_aggf['total'] = df_aggf.violation.sum()\n",
    "df_aggf['% of total'] = df_aggf['violation']/df_aggf['total']\n",
    "df_aggf['gender'] = 'F'\n",
    "\n",
    "#concat the dataframes together\n",
    "df_agg = pd.concat([df_aggm, df_aggf], ignore_index = True)\n",
    "df_agg"
   ]
  },
  {
   "cell_type": "code",
   "execution_count": 176,
   "id": "bfc4fc1e",
   "metadata": {},
   "outputs": [],
   "source": [
    "#remove citations \n",
    "df_agg = df_agg[df_agg['stop_outcome'] != 'Citation']"
   ]
  },
  {
   "cell_type": "code",
   "execution_count": 177,
   "id": "6b8078ec",
   "metadata": {},
   "outputs": [
    {
     "data": {
      "text/plain": [
       "<Figure size 1000x2000 with 0 Axes>"
      ]
     },
     "metadata": {},
     "output_type": "display_data"
    },
    {
     "data": {
      "image/png": "[encoded data removed]",
      "text/plain": [
       "<Figure size 567.625x500 with 1 Axes>"
      ]
     },
     "metadata": {},
     "output_type": "display_data"
    }
   ],
   "source": [
    "plt.figure(figsize=(10,20))\n",
    "\n",
    "sns.catplot(x = \"% of total\",       # x variable name\n",
    "            y = \"stop_outcome\",       # y variable name\n",
    "            hue = \"gender\",  # group variable name\n",
    "            data = df_agg,     # dataframe to plot\n",
    "            kind = \"bar\",\n",
    "            orient = 'h')\n",
    "plt.show()"
   ]
  },
  {
   "cell_type": "code",
   "execution_count": null,
   "id": "9f6427a8",
   "metadata": {},
   "outputs": [],
   "source": [
    "#---------\n",
    "# 2 - 🚨 When a man is pulled over, How often is it for speeding?\n",
    "#--------"
   ]
  },
  {
   "cell_type": "code",
   "execution_count": 212,
   "id": "409ec163",
   "metadata": {},
   "outputs": [
    {
     "data": {
      "text/html": [
       "<div>\n",
       "<style scoped>\n",
       "    .dataframe tbody tr th:only-of-type {\n",
       "        vertical-align: middle;\n",
       "    }\n",
       "\n",
       "    .dataframe tbody tr th {\n",
       "        vertical-align: top;\n",
       "    }\n",
       "\n",
       "    .dataframe thead th {\n",
       "        text-align: right;\n",
       "    }\n",
       "</style>\n",
       "<table border=\"1\" class=\"dataframe\">\n",
       "  <thead>\n",
       "    <tr style=\"text-align: right;\">\n",
       "      <th></th>\n",
       "      <th>index</th>\n",
       "      <th>violation</th>\n",
       "    </tr>\n",
       "  </thead>\n",
       "  <tbody>\n",
       "    <tr>\n",
       "      <th>0</th>\n",
       "      <td>Speeding</td>\n",
       "      <td>0.524350</td>\n",
       "    </tr>\n",
       "    <tr>\n",
       "      <th>1</th>\n",
       "      <td>Moving violation</td>\n",
       "      <td>0.207012</td>\n",
       "    </tr>\n",
       "    <tr>\n",
       "      <th>2</th>\n",
       "      <td>Equipment</td>\n",
       "      <td>0.135671</td>\n",
       "    </tr>\n",
       "    <tr>\n",
       "      <th>3</th>\n",
       "      <td>Other</td>\n",
       "      <td>0.057668</td>\n",
       "    </tr>\n",
       "    <tr>\n",
       "      <th>4</th>\n",
       "      <td>Registration/plates</td>\n",
       "      <td>0.038461</td>\n",
       "    </tr>\n",
       "    <tr>\n",
       "      <th>5</th>\n",
       "      <td>Seat belt</td>\n",
       "      <td>0.036839</td>\n",
       "    </tr>\n",
       "  </tbody>\n",
       "</table>\n",
       "</div>"
      ],
      "text/plain": [
       "                 index  violation\n",
       "0             Speeding   0.524350\n",
       "1     Moving violation   0.207012\n",
       "2            Equipment   0.135671\n",
       "3                Other   0.057668\n",
       "4  Registration/plates   0.038461\n",
       "5            Seat belt   0.036839"
      ]
     },
     "execution_count": 212,
     "metadata": {},
     "output_type": "execute_result"
    }
   ],
   "source": [
    "#Filter for where dataframe = M, include column violation and get a relative % \n",
    "df_males = df.loc[df.driver_gender == 'M' , \"violation\"].value_counts(normalize=True).to_frame().reset_index()\n",
    "df_males"
   ]
  },
  {
   "cell_type": "code",
   "execution_count": 225,
   "id": "be451dac",
   "metadata": {},
   "outputs": [
    {
     "data": {
      "text/html": [
       "<div>\n",
       "<style scoped>\n",
       "    .dataframe tbody tr th:only-of-type {\n",
       "        vertical-align: middle;\n",
       "    }\n",
       "\n",
       "    .dataframe tbody tr th {\n",
       "        vertical-align: top;\n",
       "    }\n",
       "\n",
       "    .dataframe thead th {\n",
       "        text-align: right;\n",
       "    }\n",
       "</style>\n",
       "<table border=\"1\" class=\"dataframe\">\n",
       "  <thead>\n",
       "    <tr style=\"text-align: right;\">\n",
       "      <th></th>\n",
       "      <th>index</th>\n",
       "      <th>violation</th>\n",
       "    </tr>\n",
       "  </thead>\n",
       "  <tbody>\n",
       "    <tr>\n",
       "      <th>0</th>\n",
       "      <td>Speeding</td>\n",
       "      <td>0.658500</td>\n",
       "    </tr>\n",
       "    <tr>\n",
       "      <th>1</th>\n",
       "      <td>Moving violation</td>\n",
       "      <td>0.136277</td>\n",
       "    </tr>\n",
       "    <tr>\n",
       "      <th>2</th>\n",
       "      <td>Equipment</td>\n",
       "      <td>0.105780</td>\n",
       "    </tr>\n",
       "    <tr>\n",
       "      <th>3</th>\n",
       "      <td>Registration/plates</td>\n",
       "      <td>0.043086</td>\n",
       "    </tr>\n",
       "    <tr>\n",
       "      <th>4</th>\n",
       "      <td>Other</td>\n",
       "      <td>0.029348</td>\n",
       "    </tr>\n",
       "    <tr>\n",
       "      <th>5</th>\n",
       "      <td>Seat belt</td>\n",
       "      <td>0.027009</td>\n",
       "    </tr>\n",
       "  </tbody>\n",
       "</table>\n",
       "</div>"
      ],
      "text/plain": [
       "                 index  violation\n",
       "0             Speeding   0.658500\n",
       "1     Moving violation   0.136277\n",
       "2            Equipment   0.105780\n",
       "3  Registration/plates   0.043086\n",
       "4                Other   0.029348\n",
       "5            Seat belt   0.027009"
      ]
     },
     "execution_count": 225,
     "metadata": {},
     "output_type": "execute_result"
    }
   ],
   "source": [
    "df_females = df.loc[df.driver_gender == 'F' , \"violation\"].value_counts(normalize=True).to_frame().reset_index()\n",
    "df_females"
   ]
  },
  {
   "cell_type": "code",
   "execution_count": 229,
   "id": "6d7c6d8d",
   "metadata": {},
   "outputs": [
    {
     "data": {
      "text/plain": [
       "<AxesSubplot:xlabel='violation', ylabel='count'>"
      ]
     },
     "execution_count": 229,
     "metadata": {},
     "output_type": "execute_result"
    },
    {
     "data": {
      "image/png": "[encoded data removed]",
      "text/plain": [
       "<Figure size 1500x700 with 1 Axes>"
      ]
     },
     "metadata": {},
     "output_type": "display_data"
    }
   ],
   "source": [
    "#Violations by Gender \n",
    "figure = plt.figure(figsize=(15,7))                                   \n",
    "sns.countplot(x='violation', data=df, hue='driver_gender')"
   ]
  },
  {
   "cell_type": "code",
   "execution_count": null,
   "id": "13485a29",
   "metadata": {},
   "outputs": [],
   "source": [
    "\"Women are pulled over for speeding more often than man when only looking at violations by gender\""
   ]
  },
  {
   "cell_type": "code",
   "execution_count": null,
   "id": "eeefa0ab",
   "metadata": {},
   "outputs": [],
   "source": []
  },
  {
   "cell_type": "code",
   "execution_count": null,
   "id": "46ccb6ea",
   "metadata": {},
   "outputs": [],
   "source": [
    "#Practice with Aggregates \n",
    "df_vio.groupby(['stop_month']).agg({'driver_age':[max,min,'mean'],'driver_gender':'count'})"
   ]
  },
  {
   "cell_type": "code",
   "execution_count": 178,
   "id": "2a0c9edb",
   "metadata": {},
   "outputs": [
    {
     "data": {
      "text/plain": [
       "M    32979\n",
       "F    15482\n",
       "Name: driver_gender, dtype: int64"
      ]
     },
     "execution_count": 178,
     "metadata": {},
     "output_type": "execute_result"
    }
   ],
   "source": [
    "###Get the Stop Month \n",
    "\n",
    "#1. turn the stop_date column into a datetime column \n",
    "    #uses pd.to_datetime\n",
    "df[\"stop_date\"] = pd.to_datetime(df[\"stop_date\"])\n",
    "\n",
    "#2. Create stop_month column the stop_date column into a datetime column \n",
    "df['stop_month'] = df['stop_date'].dt.month"
   ]
  },
  {
   "cell_type": "code",
   "execution_count": null,
   "id": "675e61ec",
   "metadata": {},
   "outputs": [],
   "source": [
    "fig, axes = plt.subplots(1, 2, figsize=(20, 5), sharey=True)\n",
    "fig.suptitle('Men & Women Traffic Violations')\n",
    "\n",
    "sns.barplot(ax=axes[0], x='index', y='violation', data = df_females)\n",
    "axes[0].set_title('Women')\n",
    "axes[0].set_xlabel('Violation')\n",
    "axes[0].set_ylabel('Frequency (%)')"
   ]
  }
 ],
 "metadata": {
  "kernelspec": {
   "display_name": "Python 3 (ipykernel)",
   "language": "python",
   "name": "python3"
  },
  "language_info": {
   "codemirror_mode": {
    "name": "ipython",
    "version": 3
   },
   "file_extension": ".py",
   "mimetype": "text/x-python",
   "name": "python",
   "nbconvert_exporter": "python",
   "pygments_lexer": "ipython3",
   "version": "3.9.13"
  }
 },
 "nbformat": 4,
 "nbformat_minor": 5
}
