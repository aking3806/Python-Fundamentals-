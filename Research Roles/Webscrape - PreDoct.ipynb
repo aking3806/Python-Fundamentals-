{
 "cells": [
  {
   "cell_type": "code",
   "execution_count": 7,
   "id": "85be145c",
   "metadata": {},
   "outputs": [],
   "source": [
    "import pandas as pd\n",
    "import numpy as np \n",
    "import requests\n",
    "import ssl\n",
    "from bs4 import BeautifulSoup "
   ]
  },
  {
   "cell_type": "code",
   "execution_count": 9,
   "id": "14e4c764",
   "metadata": {},
   "outputs": [
    {
     "name": "stderr",
     "output_type": "stream",
     "text": [
      "/Users/annaking/opt/anaconda3/lib/python3.9/site-packages/urllib3/connectionpool.py:1045: InsecureRequestWarning: Unverified HTTPS request is being made to host 'predoc.org'. Adding certificate verification is strongly advised. See: https://urllib3.readthedocs.io/en/1.26.x/advanced-usage.html#ssl-warnings\n",
      "  warnings.warn(\n"
     ]
    }
   ],
   "source": [
    "url = \"https://predoc.org/opportunities\"\n",
    "response = requests.get(url, verify=False)\n",
    "\n",
    "if response.status_code == 200:\n",
    "    soup = BeautifulSoup(response.content, \"html.parser\")\n",
    "else:\n",
    "    print(\"Error: Unable to fetch the URL\")"
   ]
  },
  {
   "cell_type": "code",
   "execution_count": 131,
   "id": "2ec88677",
   "metadata": {},
   "outputs": [
    {
     "name": "stdout",
     "output_type": "stream",
     "text": [
      "Warning: Failed to parse position 'Research Assistants' due to incomplete or unexpected data\n"
     ]
    }
   ],
   "source": [
    "import re\n",
    "\n",
    "# Find all the article elements containing predoctoral positions\n",
    "positions = []\n",
    "\n",
    "for article in articles:\n",
    "    try:\n",
    "        title_element = article.find(\"h2\")\n",
    "        title = title_element.text.strip()\n",
    "        link = title_element.find(\"a\")[\"href\"]\n",
    "\n",
    "        details_element = article.find(\"p\")\n",
    "\n",
    "        # Split the details by line breaks (<br>) using a regular expression\n",
    "        details_lines = [line.strip() for line in re.split('<br ?/?>', details_element.decode_contents())]\n",
    "\n",
    "        sponsoring_researchers = details_lines[0].replace(\"Sponsoring Researchers:\", \"\").replace(\"Sponsoring Researcher:\", \"\").strip()\n",
    "        institution = details_lines[1].replace(\"Institution:\", \"\").strip()\n",
    "        fields_of_research = details_lines[2].replace(\"Fields of Research:\", \"\").strip()\n",
    "\n",
    "        # Combine any remaining lines as the deadline\n",
    "        deadline = \" \".join(details_lines[3:]).replace(\"Deadline:\", \"\").strip()\n",
    "\n",
    "        position = {\n",
    "            \"name\": title,\n",
    "            \"link\": link,\n",
    "            \"sponsoring_researchers\": sponsoring_researchers,\n",
    "            \"institution\": institution,\n",
    "            \"fields_of_research\": fields_of_research,\n",
    "            \"deadline\": deadline,\n",
    "        }\n",
    "        positions.append(position)\n",
    "    except IndexError:\n",
    "        print(f\"Warning: Failed to parse position '{title}' due to incomplete or unexpected data\")\n",
    "\n",
    "df = pd.DataFrame(positions)\n"
   ]
  },
  {
   "cell_type": "code",
   "execution_count": 136,
   "id": "4e7cfc6c",
   "metadata": {},
   "outputs": [
    {
     "data": {
      "text/html": [
       "<div>\n",
       "<style scoped>\n",
       "    .dataframe tbody tr th:only-of-type {\n",
       "        vertical-align: middle;\n",
       "    }\n",
       "\n",
       "    .dataframe tbody tr th {\n",
       "        vertical-align: top;\n",
       "    }\n",
       "\n",
       "    .dataframe thead th {\n",
       "        text-align: right;\n",
       "    }\n",
       "</style>\n",
       "<table border=\"1\" class=\"dataframe\">\n",
       "  <thead>\n",
       "    <tr style=\"text-align: right;\">\n",
       "      <th></th>\n",
       "      <th>name</th>\n",
       "      <th>link</th>\n",
       "      <th>sponsoring_researchers</th>\n",
       "      <th>institution</th>\n",
       "      <th>fields_of_research</th>\n",
       "      <th>deadline</th>\n",
       "    </tr>\n",
       "  </thead>\n",
       "  <tbody>\n",
       "    <tr>\n",
       "      <th>0</th>\n",
       "      <td>Pre-Doctoral Research Associate</td>\n",
       "      <td>https://bit.ly/3KgmWY2</td>\n",
       "      <td>Professors Amy Huber and Huan Tang</td>\n",
       "      <td>Wharton School, University of Pennsylvania</td>\n",
       "      <td>Financial Economics</td>\n",
       "      <td>Rolling</td>\n",
       "    </tr>\n",
       "    <tr>\n",
       "      <th>1</th>\n",
       "      <td>Research Professional</td>\n",
       "      <td>https://bit.ly/3mhcAz5</td>\n",
       "      <td>Anthony Welsch</td>\n",
       "      <td>The University of Chicago Booth School of Busi...</td>\n",
       "      <td>Accounting</td>\n",
       "      <td>Applications are reviewed on a rolling basis; ...</td>\n",
       "    </tr>\n",
       "    <tr>\n",
       "      <th>2</th>\n",
       "      <td>Pre-Doctoral Fellowship</td>\n",
       "      <td>https://bit.ly/3ZFjgVu</td>\n",
       "      <td>Professor Emily Breza</td>\n",
       "      <td>Harvard University</td>\n",
       "      <td>Development Economics</td>\n",
       "      <td>Rolling</td>\n",
       "    </tr>\n",
       "    <tr>\n",
       "      <th>3</th>\n",
       "      <td>Full-Time Research Assistant</td>\n",
       "      <td>http://bit.ly/3U2AKtJ</td>\n",
       "      <td>Timothy Layton and Amitabh Chandra</td>\n",
       "      <td>The National Bureau of Economic Research</td>\n",
       "      <td>Health Care and Public Economics</td>\n",
       "      <td>N/A</td>\n",
       "    </tr>\n",
       "    <tr>\n",
       "      <th>4</th>\n",
       "      <td>Research Professional</td>\n",
       "      <td>http://bit.ly/3M4Q3jr</td>\n",
       "      <td>Anna Costello</td>\n",
       "      <td>The University of Chicago Booth School of Busi...</td>\n",
       "      <td>Accounting</td>\n",
       "      <td>Applications will be evaluated on a rolling ba...</td>\n",
       "    </tr>\n",
       "  </tbody>\n",
       "</table>\n",
       "</div>"
      ],
      "text/plain": [
       "                              name                    link  \\\n",
       "0  Pre-Doctoral Research Associate  https://bit.ly/3KgmWY2   \n",
       "1            Research Professional  https://bit.ly/3mhcAz5   \n",
       "2          Pre-Doctoral Fellowship  https://bit.ly/3ZFjgVu   \n",
       "3     Full-Time Research Assistant   http://bit.ly/3U2AKtJ   \n",
       "4            Research Professional   http://bit.ly/3M4Q3jr   \n",
       "\n",
       "               sponsoring_researchers  \\\n",
       "0  Professors Amy Huber and Huan Tang   \n",
       "1                      Anthony Welsch   \n",
       "2               Professor Emily Breza   \n",
       "3  Timothy Layton and Amitabh Chandra   \n",
       "4                       Anna Costello   \n",
       "\n",
       "                                         institution  \\\n",
       "0         Wharton School, University of Pennsylvania   \n",
       "1  The University of Chicago Booth School of Busi...   \n",
       "2                                 Harvard University   \n",
       "3           The National Bureau of Economic Research   \n",
       "4  The University of Chicago Booth School of Busi...   \n",
       "\n",
       "                 fields_of_research  \\\n",
       "0               Financial Economics   \n",
       "1                        Accounting   \n",
       "2             Development Economics   \n",
       "3  Health Care and Public Economics   \n",
       "4                        Accounting   \n",
       "\n",
       "                                            deadline  \n",
       "0                                            Rolling  \n",
       "1  Applications are reviewed on a rolling basis; ...  \n",
       "2                                            Rolling  \n",
       "3                                                N/A  \n",
       "4  Applications will be evaluated on a rolling ba...  "
      ]
     },
     "execution_count": 136,
     "metadata": {},
     "output_type": "execute_result"
    }
   ],
   "source": [
    "#Clean dataframe\n",
    "df_copy.institution = df_copy.institution.str.replace('<em>',\"\")\n",
    "df_copy.institution = df_copy.institution.str.replace('</em>',\"\")\n",
    "df_copy.fields_of_research = df_copy.fields_of_research.str.replace('Fields of research: ',\"\")\n",
    "df_copy.fields_of_research = df_copy.fields_of_research.str.replace('Field of research: ',\"\")\n",
    "\n",
    "df_copy.head()"
   ]
  },
  {
   "cell_type": "code",
   "execution_count": null,
   "id": "5b314874",
   "metadata": {},
   "outputs": [],
   "source": [
    "pd.save_csv('')"
   ]
  }
 ],
 "metadata": {
  "kernelspec": {
   "display_name": "Python 3 (ipykernel)",
   "language": "python",
   "name": "python3"
  },
  "language_info": {
   "codemirror_mode": {
    "name": "ipython",
    "version": 3
   },
   "file_extension": ".py",
   "mimetype": "text/x-python",
   "name": "python",
   "nbconvert_exporter": "python",
   "pygments_lexer": "ipython3",
   "version": "3.9.13"
  }
 },
 "nbformat": 4,
 "nbformat_minor": 5
}
