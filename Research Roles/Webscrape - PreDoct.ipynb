{
 "cells": [
  {
   "cell_type": "code",
   "execution_count": 7,
   "id": "b41542e0",
   "metadata": {},
   "outputs": [],
   "source": [
    "import pandas as pd\n",
    "import numpy as np \n",
    "import requests\n",
    "import ssl\n",
    "from bs4 import BeautifulSoup "
   ]
  },
  {
   "cell_type": "code",
   "execution_count": 9,
   "id": "94e66364",
   "metadata": {},
   "outputs": [
    {
     "name": "stderr",
     "output_type": "stream",
     "text": [
      "/Users/annaking/opt/anaconda3/lib/python3.9/site-packages/urllib3/connectionpool.py:1045: InsecureRequestWarning: Unverified HTTPS request is being made to host 'predoc.org'. Adding certificate verification is strongly advised. See: https://urllib3.readthedocs.io/en/1.26.x/advanced-usage.html#ssl-warnings\n",
      "  warnings.warn(\n"
     ]
    }
   ],
   "source": [
    "url = \"https://predoc.org/opportunities\"\n",
    "response = requests.get(url, verify=False)\n",
    "\n",
    "if response.status_code == 200:\n",
    "    soup = BeautifulSoup(response.content, \"html.parser\")\n",
    "else:\n",
    "    print(\"Error: Unable to fetch the URL\")"
   ]
  },
  {
   "cell_type": "code",
   "execution_count": 131,
   "id": "9ddf78c3",
   "metadata": {},
   "outputs": [
    {
     "name": "stdout",
     "output_type": "stream",
     "text": [
      "Warning: Failed to parse position 'Research Assistants' due to incomplete or unexpected data\n"
     ]
    }
   ],
   "source": [
    "import re\n",
    "\n",
    "# Find all the article elements containing predoctoral positions\n",
    "positions = []\n",
    "\n",
    "for article in articles:\n",
    "    try:\n",
    "        title_element = article.find(\"h2\")\n",
    "        title = title_element.text.strip()\n",
    "        link = title_element.find(\"a\")[\"href\"]\n",
    "\n",
    "        details_element = article.find(\"p\")\n",
    "\n",
    "        # Split the details by line breaks (<br>) using a regular expression\n",
    "        details_lines = [line.strip() for line in re.split('<br ?/?>', details_element.decode_contents())]\n",
    "\n",
    "        sponsoring_researchers = details_lines[0].replace(\"Sponsoring Researchers:\", \"\").replace(\"Sponsoring Researcher:\", \"\").strip()\n",
    "        institution = details_lines[1].replace(\"Institution:\", \"\").strip()\n",
    "        fields_of_research = details_lines[2].replace(\"Fields of Research:\", \"\").strip()\n",
    "\n",
    "        # Combine any remaining lines as the deadline\n",
    "        deadline = \" \".join(details_lines[3:]).replace(\"Deadline:\", \"\").strip()\n",
    "\n",
    "        position = {\n",
    "            \"name\": title,\n",
    "            \"link\": link,\n",
    "            \"sponsoring_researchers\": sponsoring_researchers,\n",
    "            \"institution\": institution,\n",
    "            \"fields_of_research\": fields_of_research,\n",
    "            \"deadline\": deadline,\n",
    "        }\n",
    "        positions.append(position)\n",
    "    except IndexError:\n",
    "        print(f\"Warning: Failed to parse position '{title}' due to incomplete or unexpected data\")\n",
    "\n",
    "df = pd.DataFrame(positions)\n"
   ]
  },
  {
   "cell_type": "code",
   "execution_count": 155,
   "id": "279487c4",
   "metadata": {},
   "outputs": [],
   "source": [
    "#Clean dataframe\n",
    "df_copy.institution = df_copy.institution.str.replace('<em>',\"\")\n",
    "df_copy.institution = df_copy.institution.str.replace('</em>',\"\")\n",
    "df_copy.fields_of_research = df_copy.fields_of_research.str.replace('Fields of research: ',\"\")\n",
    "df_copy.fields_of_research = df_copy.fields_of_research.str.replace('Field of research: ',\"\")\n",
    "df_copy.fields_of_research = df_copy.fields_of_research.str.replace('</span>',\"\")\n",
    "\n",
    "df_copy.fields_of_research = df_copy.fields_of_research.str.replace('<span style=\"background-color: #ffffff; text-align: start; letter-spacing: normal; color: #000000;\">',\"\")\n",
    "df_copy.fields_of_research = df_copy.fields_of_research.str.replace('<span style=\"color: #242424; background-color: #ffffff;\">',\"\")\n",
    "df_copy.fields_of_research = df_copy.fields_of_research.str.replace('<span class=\"x_Apple-converted-space\" style=\"color: #242424; background-color: #ffffff; margin: 0px; padding: 0px; border: 0px;\">',\"\")\n",
    "df_copy.fields_of_research = df_copy.fields_of_research.str.replace('<span style=\"background-color: #ffffff; color: #000000;\">',\"\")\n",
    "df_copy.fields_of_research = df_copy.fields_of_research.str.replace('</em>',\"\")\n",
    "\n",
    "#lookup where df contains \n",
    "    #printing = df_copy[df_copy.fields_of_research.str.contains('span')]\n",
    "    #printing.fields_of_research.iloc[1]\n"
   ]
  },
  {
   "cell_type": "code",
   "execution_count": 156,
   "id": "265fd669",
   "metadata": {},
   "outputs": [],
   "source": [
    "df.to_csv('predoc.csv')\n"
   ]
  }
 ],
 "metadata": {
  "kernelspec": {
   "display_name": "Python 3 (ipykernel)",
   "language": "python",
   "name": "python3"
  },
  "language_info": {
   "codemirror_mode": {
    "name": "ipython",
    "version": 3
   },
   "file_extension": ".py",
   "mimetype": "text/x-python",
   "name": "python",
   "nbconvert_exporter": "python",
   "pygments_lexer": "ipython3",
   "version": "3.9.13"
  }
 },
 "nbformat": 4,
 "nbformat_minor": 5
}
