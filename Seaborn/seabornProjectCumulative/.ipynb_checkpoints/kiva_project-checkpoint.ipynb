{
 "cells": [
  {
   "cell_type": "markdown",
   "metadata": {},
   "source": [
    "# Visualizing Loans Awarded by Kiva\n",
    "\n",
    "In this project you'll visualize insights using a dataset from <a href = \"https://www.kaggle.com/fkosmowski/kivadhsv1\" target = \"_blank\">Kaggle</a>. The dataset contains information about loans awarded by the non-profit <a href = \"https://www.kiva.org/\" target = \"_blank\">Kiva</a>. \n",
    "\n",
    "Using Seaborn, you'll explore the average loan amount by country using aggregated bar charts. You'll also visualize the distribution of loan amounts by project type and gender using box plots and violin plots.\n",
    "\n",
    "Some of the steps below will have  hints that you can access if you need them. Hints will look like this:\n",
    "<br>\n",
    "<br>\n",
    "<details>\n",
    "<summary>Hint (click me)</summary>\n",
    "<br>\n",
    "I'm a hint!\n",
    "<br>\n",
    "</details>"
   ]
  },
  {
   "cell_type": "markdown",
   "metadata": {},
   "source": [
    "**A Note On `plt.show()`:** You may be used to displaying your plots using the code `plt.show()`. This IPython Jupyter notebook removes the necessity of calling `plt.show()` after each plot. You should be able to render your Seaborn plots simply by running the cell with the code for your plot. If you have issues rendering your plot you can try adding `plt.show()` to a cell."
   ]
  },
  {
   "cell_type": "markdown",
   "metadata": {},
   "source": [
    "## Step 1: Import Necessary Python Modules\n",
    "Import the modules that you'll be using in this project:\n",
    "- `from matplotlib import pyplot as plt`\n",
    "- `import pandas as pd`\n",
    "- `import seaborn as sns`"
   ]
  },
  {
   "cell_type": "code",
   "execution_count": 23,
   "metadata": {},
   "outputs": [],
   "source": [
    "import matplotlib.pyplot as plt\n",
    "import pandas as pd\n",
    "import seaborn as sns\n",
    "import numpy as np"
   ]
  },
  {
   "cell_type": "markdown",
   "metadata": {},
   "source": [
    "## Step 2: Ingest The Data\n",
    "Load **kiva_data.csv** into a DataFrame called `df`. Then, quickly inspect the DataFrame using `.head()`.\n",
    "<br>\n",
    "<br>\n",
    "<details>\n",
    "<summary>Hint</summary>\n",
    "<br>\n",
    "Use `pd.read_csv()`.\n",
    "<br>\n",
    "</details>"
   ]
  },
  {
   "cell_type": "code",
   "execution_count": 3,
   "metadata": {},
   "outputs": [
    {
     "data": {
      "text/html": [
       "<div>\n",
       "<style scoped>\n",
       "    .dataframe tbody tr th:only-of-type {\n",
       "        vertical-align: middle;\n",
       "    }\n",
       "\n",
       "    .dataframe tbody tr th {\n",
       "        vertical-align: top;\n",
       "    }\n",
       "\n",
       "    .dataframe thead th {\n",
       "        text-align: right;\n",
       "    }\n",
       "</style>\n",
       "<table border=\"1\" class=\"dataframe\">\n",
       "  <thead>\n",
       "    <tr style=\"text-align: right;\">\n",
       "      <th></th>\n",
       "      <th>loan_amount</th>\n",
       "      <th>activity</th>\n",
       "      <th>country</th>\n",
       "      <th>gender</th>\n",
       "    </tr>\n",
       "  </thead>\n",
       "  <tbody>\n",
       "    <tr>\n",
       "      <th>0</th>\n",
       "      <td>625</td>\n",
       "      <td>Food Production/Sales</td>\n",
       "      <td>Pakistan</td>\n",
       "      <td>female</td>\n",
       "    </tr>\n",
       "    <tr>\n",
       "      <th>1</th>\n",
       "      <td>250</td>\n",
       "      <td>Food Production/Sales</td>\n",
       "      <td>Pakistan</td>\n",
       "      <td>female</td>\n",
       "    </tr>\n",
       "    <tr>\n",
       "      <th>2</th>\n",
       "      <td>400</td>\n",
       "      <td>Food Production/Sales</td>\n",
       "      <td>Pakistan</td>\n",
       "      <td>female</td>\n",
       "    </tr>\n",
       "    <tr>\n",
       "      <th>3</th>\n",
       "      <td>400</td>\n",
       "      <td>Food Production/Sales</td>\n",
       "      <td>Pakistan</td>\n",
       "      <td>female</td>\n",
       "    </tr>\n",
       "    <tr>\n",
       "      <th>4</th>\n",
       "      <td>500</td>\n",
       "      <td>Food Production/Sales</td>\n",
       "      <td>Pakistan</td>\n",
       "      <td>female</td>\n",
       "    </tr>\n",
       "  </tbody>\n",
       "</table>\n",
       "</div>"
      ],
      "text/plain": [
       "   loan_amount               activity   country  gender\n",
       "0          625  Food Production/Sales  Pakistan  female\n",
       "1          250  Food Production/Sales  Pakistan  female\n",
       "2          400  Food Production/Sales  Pakistan  female\n",
       "3          400  Food Production/Sales  Pakistan  female\n",
       "4          500  Food Production/Sales  Pakistan  female"
      ]
     },
     "execution_count": 3,
     "metadata": {},
     "output_type": "execute_result"
    }
   ],
   "source": [
    "df = pd.read_csv('kiva_data.csv')\n"
   ]
  },
  {
   "cell_type": "markdown",
   "metadata": {},
   "source": [
    "## Step 3: Examine The Data\n",
    "\n",
    "If you would like, you can examine the raw CSV file on your local machine. You can find **kiva_data.csv** in the project download folder.\n",
    "\n",
    "### Overview of the dataset:\n",
    "\n",
    "Each entry (row) in the dataset represents a loan that Kiva awarded to a particular project. The `loan_amount` column shows the amount (in U.S. dollars) awarded to the project. The `activity` column has the category type that the project falls under. The `country` column is the country where the project is located. The `gender` column represents the gender of the primary person who applied for the loan. \n",
    "\n",
    "\n",
    "Print the first 25 rows of `df` using `.head()`"
   ]
  },
  {
   "cell_type": "code",
   "execution_count": 4,
   "metadata": {},
   "outputs": [
    {
     "data": {
      "text/html": [
       "<div>\n",
       "<style scoped>\n",
       "    .dataframe tbody tr th:only-of-type {\n",
       "        vertical-align: middle;\n",
       "    }\n",
       "\n",
       "    .dataframe tbody tr th {\n",
       "        vertical-align: top;\n",
       "    }\n",
       "\n",
       "    .dataframe thead th {\n",
       "        text-align: right;\n",
       "    }\n",
       "</style>\n",
       "<table border=\"1\" class=\"dataframe\">\n",
       "  <thead>\n",
       "    <tr style=\"text-align: right;\">\n",
       "      <th></th>\n",
       "      <th>loan_amount</th>\n",
       "      <th>activity</th>\n",
       "      <th>country</th>\n",
       "      <th>gender</th>\n",
       "    </tr>\n",
       "  </thead>\n",
       "  <tbody>\n",
       "    <tr>\n",
       "      <th>0</th>\n",
       "      <td>625</td>\n",
       "      <td>Food Production/Sales</td>\n",
       "      <td>Pakistan</td>\n",
       "      <td>female</td>\n",
       "    </tr>\n",
       "    <tr>\n",
       "      <th>1</th>\n",
       "      <td>250</td>\n",
       "      <td>Food Production/Sales</td>\n",
       "      <td>Pakistan</td>\n",
       "      <td>female</td>\n",
       "    </tr>\n",
       "    <tr>\n",
       "      <th>2</th>\n",
       "      <td>400</td>\n",
       "      <td>Food Production/Sales</td>\n",
       "      <td>Pakistan</td>\n",
       "      <td>female</td>\n",
       "    </tr>\n",
       "    <tr>\n",
       "      <th>3</th>\n",
       "      <td>400</td>\n",
       "      <td>Food Production/Sales</td>\n",
       "      <td>Pakistan</td>\n",
       "      <td>female</td>\n",
       "    </tr>\n",
       "    <tr>\n",
       "      <th>4</th>\n",
       "      <td>500</td>\n",
       "      <td>Food Production/Sales</td>\n",
       "      <td>Pakistan</td>\n",
       "      <td>female</td>\n",
       "    </tr>\n",
       "    <tr>\n",
       "      <th>5</th>\n",
       "      <td>500</td>\n",
       "      <td>Food Production/Sales</td>\n",
       "      <td>Pakistan</td>\n",
       "      <td>female</td>\n",
       "    </tr>\n",
       "    <tr>\n",
       "      <th>6</th>\n",
       "      <td>400</td>\n",
       "      <td>Food Production/Sales</td>\n",
       "      <td>Pakistan</td>\n",
       "      <td>female</td>\n",
       "    </tr>\n",
       "    <tr>\n",
       "      <th>7</th>\n",
       "      <td>500</td>\n",
       "      <td>Food Production/Sales</td>\n",
       "      <td>Pakistan</td>\n",
       "      <td>female</td>\n",
       "    </tr>\n",
       "    <tr>\n",
       "      <th>8</th>\n",
       "      <td>400</td>\n",
       "      <td>Food Production/Sales</td>\n",
       "      <td>Pakistan</td>\n",
       "      <td>female</td>\n",
       "    </tr>\n",
       "    <tr>\n",
       "      <th>9</th>\n",
       "      <td>450</td>\n",
       "      <td>Food Production/Sales</td>\n",
       "      <td>Pakistan</td>\n",
       "      <td>female</td>\n",
       "    </tr>\n",
       "    <tr>\n",
       "      <th>10</th>\n",
       "      <td>250</td>\n",
       "      <td>Food Production/Sales</td>\n",
       "      <td>Pakistan</td>\n",
       "      <td>female</td>\n",
       "    </tr>\n",
       "    <tr>\n",
       "      <th>11</th>\n",
       "      <td>300</td>\n",
       "      <td>Food Production/Sales</td>\n",
       "      <td>Pakistan</td>\n",
       "      <td>female</td>\n",
       "    </tr>\n",
       "    <tr>\n",
       "      <th>12</th>\n",
       "      <td>275</td>\n",
       "      <td>Food Production/Sales</td>\n",
       "      <td>Pakistan</td>\n",
       "      <td>female</td>\n",
       "    </tr>\n",
       "    <tr>\n",
       "      <th>13</th>\n",
       "      <td>425</td>\n",
       "      <td>Food Production/Sales</td>\n",
       "      <td>Pakistan</td>\n",
       "      <td>female</td>\n",
       "    </tr>\n",
       "    <tr>\n",
       "      <th>14</th>\n",
       "      <td>425</td>\n",
       "      <td>Food Production/Sales</td>\n",
       "      <td>Pakistan</td>\n",
       "      <td>female</td>\n",
       "    </tr>\n",
       "    <tr>\n",
       "      <th>15</th>\n",
       "      <td>475</td>\n",
       "      <td>Food Production/Sales</td>\n",
       "      <td>Pakistan</td>\n",
       "      <td>female</td>\n",
       "    </tr>\n",
       "    <tr>\n",
       "      <th>16</th>\n",
       "      <td>225</td>\n",
       "      <td>Food Production/Sales</td>\n",
       "      <td>Pakistan</td>\n",
       "      <td>female</td>\n",
       "    </tr>\n",
       "    <tr>\n",
       "      <th>17</th>\n",
       "      <td>475</td>\n",
       "      <td>Food Production/Sales</td>\n",
       "      <td>Pakistan</td>\n",
       "      <td>female</td>\n",
       "    </tr>\n",
       "    <tr>\n",
       "      <th>18</th>\n",
       "      <td>525</td>\n",
       "      <td>Food Production/Sales</td>\n",
       "      <td>Pakistan</td>\n",
       "      <td>female</td>\n",
       "    </tr>\n",
       "    <tr>\n",
       "      <th>19</th>\n",
       "      <td>425</td>\n",
       "      <td>Food Production/Sales</td>\n",
       "      <td>Pakistan</td>\n",
       "      <td>female</td>\n",
       "    </tr>\n",
       "    <tr>\n",
       "      <th>20</th>\n",
       "      <td>475</td>\n",
       "      <td>Food Production/Sales</td>\n",
       "      <td>Pakistan</td>\n",
       "      <td>female</td>\n",
       "    </tr>\n",
       "    <tr>\n",
       "      <th>21</th>\n",
       "      <td>550</td>\n",
       "      <td>Food Production/Sales</td>\n",
       "      <td>Pakistan</td>\n",
       "      <td>female</td>\n",
       "    </tr>\n",
       "    <tr>\n",
       "      <th>22</th>\n",
       "      <td>450</td>\n",
       "      <td>Food Production/Sales</td>\n",
       "      <td>Pakistan</td>\n",
       "      <td>female</td>\n",
       "    </tr>\n",
       "    <tr>\n",
       "      <th>23</th>\n",
       "      <td>250</td>\n",
       "      <td>Food Production/Sales</td>\n",
       "      <td>Pakistan</td>\n",
       "      <td>female</td>\n",
       "    </tr>\n",
       "    <tr>\n",
       "      <th>24</th>\n",
       "      <td>600</td>\n",
       "      <td>Food Production/Sales</td>\n",
       "      <td>Pakistan</td>\n",
       "      <td>female</td>\n",
       "    </tr>\n",
       "  </tbody>\n",
       "</table>\n",
       "</div>"
      ],
      "text/plain": [
       "    loan_amount               activity   country  gender\n",
       "0           625  Food Production/Sales  Pakistan  female\n",
       "1           250  Food Production/Sales  Pakistan  female\n",
       "2           400  Food Production/Sales  Pakistan  female\n",
       "3           400  Food Production/Sales  Pakistan  female\n",
       "4           500  Food Production/Sales  Pakistan  female\n",
       "5           500  Food Production/Sales  Pakistan  female\n",
       "6           400  Food Production/Sales  Pakistan  female\n",
       "7           500  Food Production/Sales  Pakistan  female\n",
       "8           400  Food Production/Sales  Pakistan  female\n",
       "9           450  Food Production/Sales  Pakistan  female\n",
       "10          250  Food Production/Sales  Pakistan  female\n",
       "11          300  Food Production/Sales  Pakistan  female\n",
       "12          275  Food Production/Sales  Pakistan  female\n",
       "13          425  Food Production/Sales  Pakistan  female\n",
       "14          425  Food Production/Sales  Pakistan  female\n",
       "15          475  Food Production/Sales  Pakistan  female\n",
       "16          225  Food Production/Sales  Pakistan  female\n",
       "17          475  Food Production/Sales  Pakistan  female\n",
       "18          525  Food Production/Sales  Pakistan  female\n",
       "19          425  Food Production/Sales  Pakistan  female\n",
       "20          475  Food Production/Sales  Pakistan  female\n",
       "21          550  Food Production/Sales  Pakistan  female\n",
       "22          450  Food Production/Sales  Pakistan  female\n",
       "23          250  Food Production/Sales  Pakistan  female\n",
       "24          600  Food Production/Sales  Pakistan  female"
      ]
     },
     "execution_count": 4,
     "metadata": {},
     "output_type": "execute_result"
    }
   ],
   "source": [
    "df.head(25)"
   ]
  },
  {
   "cell_type": "code",
   "execution_count": 16,
   "metadata": {},
   "outputs": [
    {
     "name": "stdout",
     "output_type": "stream",
     "text": [
      "<class 'pandas.core.frame.DataFrame'>\n",
      "RangeIndex: 65499 entries, 0 to 65498\n",
      "Data columns (total 4 columns):\n",
      " #   Column       Non-Null Count  Dtype \n",
      "---  ------       --------------  ----- \n",
      " 0   loan_amount  65499 non-null  int64 \n",
      " 1   activity     65499 non-null  object\n",
      " 2   country      65499 non-null  object\n",
      " 3   gender       65499 non-null  object\n",
      "dtypes: int64(1), object(3)\n",
      "memory usage: 2.0+ MB\n"
     ]
    }
   ],
   "source": [
    "df.info()"
   ]
  },
  {
   "cell_type": "code",
   "execution_count": 20,
   "metadata": {},
   "outputs": [
    {
     "name": "stdout",
     "output_type": "stream",
     "text": [
      "There are 65499 rows\n",
      "There are 4 columns\n"
     ]
    }
   ],
   "source": [
    "print(f\"There are {df.shape[0]} rows\") \n",
    "print(f\"There are {df.shape[1]} columns\") "
   ]
  },
  {
   "cell_type": "code",
   "execution_count": 17,
   "metadata": {},
   "outputs": [
    {
     "data": {
      "text/plain": [
       "loan_amount    0\n",
       "activity       0\n",
       "country        0\n",
       "gender         0\n",
       "dtype: int64"
      ]
     },
     "execution_count": 17,
     "metadata": {},
     "output_type": "execute_result"
    }
   ],
   "source": [
    "#check for null data\n",
    "df.isna().sum()"
   ]
  },
  {
   "cell_type": "code",
   "execution_count": 11,
   "metadata": {},
   "outputs": [
    {
     "data": {
      "text/html": [
       "<div>\n",
       "<style scoped>\n",
       "    .dataframe tbody tr th:only-of-type {\n",
       "        vertical-align: middle;\n",
       "    }\n",
       "\n",
       "    .dataframe tbody tr th {\n",
       "        vertical-align: top;\n",
       "    }\n",
       "\n",
       "    .dataframe thead th {\n",
       "        text-align: right;\n",
       "    }\n",
       "</style>\n",
       "<table border=\"1\" class=\"dataframe\">\n",
       "  <thead>\n",
       "    <tr style=\"text-align: right;\">\n",
       "      <th></th>\n",
       "      <th>country</th>\n",
       "    </tr>\n",
       "  </thead>\n",
       "  <tbody>\n",
       "    <tr>\n",
       "      <th>Philippines</th>\n",
       "      <td>50273</td>\n",
       "    </tr>\n",
       "    <tr>\n",
       "      <th>Kenya</th>\n",
       "      <td>7100</td>\n",
       "    </tr>\n",
       "    <tr>\n",
       "      <th>El Salvador</th>\n",
       "      <td>6172</td>\n",
       "    </tr>\n",
       "    <tr>\n",
       "      <th>Pakistan</th>\n",
       "      <td>1786</td>\n",
       "    </tr>\n",
       "    <tr>\n",
       "      <th>Cambodia</th>\n",
       "      <td>168</td>\n",
       "    </tr>\n",
       "  </tbody>\n",
       "</table>\n",
       "</div>"
      ],
      "text/plain": [
       "             country\n",
       "Philippines    50273\n",
       "Kenya           7100\n",
       "El Salvador     6172\n",
       "Pakistan        1786\n",
       "Cambodia         168"
      ]
     },
     "execution_count": 11,
     "metadata": {},
     "output_type": "execute_result"
    }
   ],
   "source": [
    "#look at distrbution by country \n",
    "df.country.value_counts().to_frame()"
   ]
  },
  {
   "cell_type": "code",
   "execution_count": 13,
   "metadata": {},
   "outputs": [
    {
     "data": {
      "text/html": [
       "<div>\n",
       "<style scoped>\n",
       "    .dataframe tbody tr th:only-of-type {\n",
       "        vertical-align: middle;\n",
       "    }\n",
       "\n",
       "    .dataframe tbody tr th {\n",
       "        vertical-align: top;\n",
       "    }\n",
       "\n",
       "    .dataframe thead th {\n",
       "        text-align: right;\n",
       "    }\n",
       "</style>\n",
       "<table border=\"1\" class=\"dataframe\">\n",
       "  <thead>\n",
       "    <tr style=\"text-align: right;\">\n",
       "      <th></th>\n",
       "      <th>activity</th>\n",
       "    </tr>\n",
       "  </thead>\n",
       "  <tbody>\n",
       "    <tr>\n",
       "      <th>General Store</th>\n",
       "      <td>49516</td>\n",
       "    </tr>\n",
       "    <tr>\n",
       "      <th>Food Production/Sales</th>\n",
       "      <td>13239</td>\n",
       "    </tr>\n",
       "    <tr>\n",
       "      <th>Farming</th>\n",
       "      <td>2744</td>\n",
       "    </tr>\n",
       "  </tbody>\n",
       "</table>\n",
       "</div>"
      ],
      "text/plain": [
       "                       activity\n",
       "General Store             49516\n",
       "Food Production/Sales     13239\n",
       "Farming                    2744"
      ]
     },
     "execution_count": 13,
     "metadata": {},
     "output_type": "execute_result"
    }
   ],
   "source": [
    "#look at distrbution by activity \n",
    "df.activity.value_counts().to_frame()"
   ]
  },
  {
   "cell_type": "code",
   "execution_count": 14,
   "metadata": {},
   "outputs": [
    {
     "data": {
      "text/html": [
       "<div>\n",
       "<style scoped>\n",
       "    .dataframe tbody tr th:only-of-type {\n",
       "        vertical-align: middle;\n",
       "    }\n",
       "\n",
       "    .dataframe tbody tr th {\n",
       "        vertical-align: top;\n",
       "    }\n",
       "\n",
       "    .dataframe thead th {\n",
       "        text-align: right;\n",
       "    }\n",
       "</style>\n",
       "<table border=\"1\" class=\"dataframe\">\n",
       "  <thead>\n",
       "    <tr style=\"text-align: right;\">\n",
       "      <th></th>\n",
       "      <th>activity</th>\n",
       "    </tr>\n",
       "  </thead>\n",
       "  <tbody>\n",
       "    <tr>\n",
       "      <th>General Store</th>\n",
       "      <td>0.755981</td>\n",
       "    </tr>\n",
       "    <tr>\n",
       "      <th>Food Production/Sales</th>\n",
       "      <td>0.202125</td>\n",
       "    </tr>\n",
       "    <tr>\n",
       "      <th>Farming</th>\n",
       "      <td>0.041894</td>\n",
       "    </tr>\n",
       "  </tbody>\n",
       "</table>\n",
       "</div>"
      ],
      "text/plain": [
       "                       activity\n",
       "General Store          0.755981\n",
       "Food Production/Sales  0.202125\n",
       "Farming                0.041894"
      ]
     },
     "execution_count": 14,
     "metadata": {},
     "output_type": "execute_result"
    }
   ],
   "source": [
    "df.activity.value_counts(normalize=True).to_frame()"
   ]
  },
  {
   "cell_type": "code",
   "execution_count": 30,
   "metadata": {},
   "outputs": [
    {
     "data": {
      "text/html": [
       "<div>\n",
       "<style scoped>\n",
       "    .dataframe tbody tr th:only-of-type {\n",
       "        vertical-align: middle;\n",
       "    }\n",
       "\n",
       "    .dataframe tbody tr th {\n",
       "        vertical-align: top;\n",
       "    }\n",
       "\n",
       "    .dataframe thead th {\n",
       "        text-align: right;\n",
       "    }\n",
       "</style>\n",
       "<table border=\"1\" class=\"dataframe\">\n",
       "  <thead>\n",
       "    <tr style=\"text-align: right;\">\n",
       "      <th></th>\n",
       "      <th>loan_amount</th>\n",
       "    </tr>\n",
       "  </thead>\n",
       "  <tbody>\n",
       "    <tr>\n",
       "      <th>count</th>\n",
       "      <td>65499.000000</td>\n",
       "    </tr>\n",
       "    <tr>\n",
       "      <th>mean</th>\n",
       "      <td>361.627277</td>\n",
       "    </tr>\n",
       "    <tr>\n",
       "      <th>std</th>\n",
       "      <td>194.798936</td>\n",
       "    </tr>\n",
       "    <tr>\n",
       "      <th>min</th>\n",
       "      <td>50.000000</td>\n",
       "    </tr>\n",
       "    <tr>\n",
       "      <th>25%</th>\n",
       "      <td>225.000000</td>\n",
       "    </tr>\n",
       "    <tr>\n",
       "      <th>50%</th>\n",
       "      <td>325.000000</td>\n",
       "    </tr>\n",
       "    <tr>\n",
       "      <th>75%</th>\n",
       "      <td>450.000000</td>\n",
       "    </tr>\n",
       "    <tr>\n",
       "      <th>max</th>\n",
       "      <td>1000.000000</td>\n",
       "    </tr>\n",
       "  </tbody>\n",
       "</table>\n",
       "</div>"
      ],
      "text/plain": [
       "        loan_amount\n",
       "count  65499.000000\n",
       "mean     361.627277\n",
       "std      194.798936\n",
       "min       50.000000\n",
       "25%      225.000000\n",
       "50%      325.000000\n",
       "75%      450.000000\n",
       "max     1000.000000"
      ]
     },
     "execution_count": 30,
     "metadata": {},
     "output_type": "execute_result"
    }
   ],
   "source": [
    "df.describe()"
   ]
  },
  {
   "cell_type": "code",
   "execution_count": 32,
   "metadata": {},
   "outputs": [
    {
     "name": "stdout",
     "output_type": "stream",
     "text": [
      "The avg loan is: 361.63\n",
      "The med loan is: 325.0\n",
      "The std dev of loan amt is: 194.8\n"
     ]
    }
   ],
   "source": [
    "#Some quick stats\n",
    "print(f\"The avg loan is: {round(df.loan_amount.mean(),2)}\")\n",
    "print(f\"The med loan is: {round(df.loan_amount.median(),2)}\")\n",
    "print(f\"The std dev of loan amt is: {round(df.loan_amount.std(),2)}\")"
   ]
  },
  {
   "cell_type": "code",
   "execution_count": null,
   "metadata": {},
   "outputs": [],
   "source": [
    "\n"
   ]
  },
  {
   "cell_type": "code",
   "execution_count": null,
   "metadata": {},
   "outputs": [],
   "source": []
  },
  {
   "cell_type": "markdown",
   "metadata": {},
   "source": [
    "## Step 4: Bar Charts"
   ]
  },
  {
   "cell_type": "markdown",
   "metadata": {},
   "source": [
    "Create a bar plot using Seaborn to visualize the average size of Kiva loans given to projects, by country.\n",
    "\n",
    "We've set up the figure you'll use to plot your bar plot on. The `f` variable gives us access to the figure and `ax` gives us access to the axes.\n",
    "\n",
    "Use `sns.barplot()` with the following arguments:\n",
    "\n",
    "- `data` set to `df`\n",
    "- `x` set to `country`\n",
    "- `y` set to `loan_amount`"
   ]
  },
  {
   "cell_type": "code",
   "execution_count": 71,
   "metadata": {},
   "outputs": [
    {
     "data": {
      "image/png": "[encoded data removed]",
      "text/plain": [
       "<Figure size 500x100 with 1 Axes>"
      ]
     },
     "metadata": {},
     "output_type": "display_data"
    }
   ],
   "source": [
    "#Set sns plot theme and colors \n",
    "\n",
    "sns.set_style('whitegrid')\n",
    "pal = sns.color_palette(\"ocean\",10)\n",
    "#sns.palplot(pal)\n",
    "#select only some colors from a palette\n",
    "palette = sns.color_palette([pal[0], pal[3], pal[5], pal[7],pal[8]])\n",
    "\n",
    "sns.set_palette(palette)\n",
    "sns.palplot(palette)\n"
   ]
  },
  {
   "cell_type": "code",
   "execution_count": 93,
   "metadata": {},
   "outputs": [
    {
     "data": {
      "image/png": "[encoded data removed]",
      "text/plain": [
       "<Figure size 1800x1000 with 2 Axes>"
      ]
     },
     "metadata": {},
     "output_type": "display_data"
    }
   ],
   "source": [
    "#Visualize avg size of Kiva Loans to projects, by country \n",
    "# Creates the figure, note: you're only using this syntax so that you can modify the y-axis ticks later\n",
    "fig, axes = plt.subplots(1, 2, figsize = (18, 10))\n",
    "fig.suptitle('Loan Amount Breakdown')\n",
    "\n",
    "#format tick marks as dollar signs \n",
    "fmt = '${x:,.0f}'  #learn regex \n",
    "tick = mtick.StrMethodFormatter(fmt)\n",
    "\n",
    "#Graph of Loan Amount by Country & Project\n",
    "axes[0] = sns.barplot(ax=axes[0], x='activity', y='loan_amount', data = df, hue = 'country')\n",
    "axes[0].set_xlabel('Project')\n",
    "axes[0].set_ylabel('Loan Amount')\n",
    "axes[0].set_title('Loan Amount by Country & Project')\n",
    "\n",
    "\n",
    "axes[0].yaxis.set_major_formatter(tick)\n",
    "\n",
    "#Graph of only Loan Amount by Project\n",
    "axes[1] = sns.barplot(ax=axes[1], x='activity', y='loan_amount', data = df)\n",
    "axes[1].set_xlabel('Project')\n",
    "axes[1].set_ylabel('Loan Amount')\n",
    "axes[1].set_title('Loan Amount by Project')\n",
    "axes[1].yaxis.set_major_formatter(tick)\n",
    "\n",
    "plt.show()"
   ]
  },
  {
   "cell_type": "markdown",
   "metadata": {},
   "source": [
    "### Adding `$` units\n",
    "\n",
    "You can use the following code to so that the `loan_amount` ticks on the y-axis begin with a `$` (units of USD). \n",
    "\n",
    "```python\n",
    "import matplotlib.ticker as mtick\n",
    "fmt = '${x:,.0f}'\n",
    "tick = mtick.StrMethodFormatter(fmt)\n",
    "ax.yaxis.set_major_formatter(tick)\n",
    "```"
   ]
  },
  {
   "cell_type": "markdown",
   "metadata": {},
   "source": [
    "Run the code in the cell below to see the `$` in action."
   ]
  },
  {
   "cell_type": "code",
   "execution_count": 92,
   "metadata": {},
   "outputs": [
    {
     "data": {
      "image/png": "[encoded data removed]",
      "text/plain": [
       "<Figure size 1500x1000 with 1 Axes>"
      ]
     },
     "metadata": {},
     "output_type": "display_data"
    }
   ],
   "source": [
    "import matplotlib.ticker as mtick\n",
    "\n",
    "# Creates the figure\n",
    "f, ax = plt.subplots(figsize=(15, 10))\n",
    "\n",
    "# Plot the data\n",
    "sns.barplot(data=df, x=\"country\", y = \"loan_amount\")\n",
    "\n",
    "# Use part of the code above to format the y-axis ticks below this line\n",
    "fmt = '${x:,.0f}'\n",
    "tick = mtick.StrMethodFormatter(fmt)\n",
    "ax.yaxis.set_major_formatter(tick)\n",
    "\n",
    "plt.show()"
   ]
  },
  {
   "cell_type": "markdown",
   "metadata": {},
   "source": [
    "## Step 5: Learn More By Using `hue` In Your Visualization"
   ]
  },
  {
   "cell_type": "markdown",
   "metadata": {},
   "source": [
    "You can visualize even more data on one bar plot by visualizing the loan amount by country, and \"nesting\" by gender. Add the `hue` parameter to your `sns.barplot()` and set it so that the visualization includes the nested category of gender.\n",
    "<br>\n",
    "<br>\n",
    "<details>\n",
    "<summary>Hint</summary>\n",
    "<br>\n",
    "Set `hue` equal to the column name `gender`.\n",
    "<br>\n",
    "</details>"
   ]
  },
  {
   "cell_type": "code",
   "execution_count": 95,
   "metadata": {},
   "outputs": [
    {
     "data": {
      "image/png": "[encoded data removed]",
      "text/plain": [
       "<Figure size 1000x500 with 1 Axes>"
      ]
     },
     "metadata": {},
     "output_type": "display_data"
    }
   ],
   "source": [
    "# Creates the figure, you're only using this syntax so you can modify the y-axis ticks below\n",
    "f, ax = plt.subplots(figsize=(10, 5))\n",
    "\n",
    "sns.barplot(data=df, x=\"country\", y=\"loan_amount\", hue = 'gender')\n",
    "\n",
    "fmt = '${x:,.0f}'\n",
    "tick = mtick.StrMethodFormatter(fmt)\n",
    "ax.yaxis.set_major_formatter(tick)"
   ]
  },
  {
   "cell_type": "markdown",
   "metadata": {},
   "source": [
    "#### Reflection Questions"
   ]
  },
  {
   "cell_type": "markdown",
   "metadata": {},
   "source": [
    "On average, do female or male recipients receive larger loans from Kiva?"
   ]
  },
  {
   "cell_type": "code",
   "execution_count": 98,
   "metadata": {},
   "outputs": [
    {
     "data": {
      "text/html": [
       "<div>\n",
       "<style scoped>\n",
       "    .dataframe tbody tr th:only-of-type {\n",
       "        vertical-align: middle;\n",
       "    }\n",
       "\n",
       "    .dataframe tbody tr th {\n",
       "        vertical-align: top;\n",
       "    }\n",
       "\n",
       "    .dataframe thead th {\n",
       "        text-align: right;\n",
       "    }\n",
       "</style>\n",
       "<table border=\"1\" class=\"dataframe\">\n",
       "  <thead>\n",
       "    <tr style=\"text-align: right;\">\n",
       "      <th></th>\n",
       "      <th>loan_amount</th>\n",
       "    </tr>\n",
       "    <tr>\n",
       "      <th>gender</th>\n",
       "      <th></th>\n",
       "    </tr>\n",
       "  </thead>\n",
       "  <tbody>\n",
       "    <tr>\n",
       "      <th>female</th>\n",
       "      <td>353.179761</td>\n",
       "    </tr>\n",
       "    <tr>\n",
       "      <th>male</th>\n",
       "      <td>496.263253</td>\n",
       "    </tr>\n",
       "  </tbody>\n",
       "</table>\n",
       "</div>"
      ],
      "text/plain": [
       "        loan_amount\n",
       "gender             \n",
       "female   353.179761\n",
       "male     496.263253"
      ]
     },
     "execution_count": 98,
     "metadata": {},
     "output_type": "execute_result"
    }
   ],
   "source": [
    "#avg loan amount by gender\n",
    "df.groupby('gender').loan_amount.mean().to_frame()"
   ]
  },
  {
   "cell_type": "code",
   "execution_count": 102,
   "metadata": {},
   "outputs": [
    {
     "data": {
      "text/html": [
       "<div>\n",
       "<style scoped>\n",
       "    .dataframe tbody tr th:only-of-type {\n",
       "        vertical-align: middle;\n",
       "    }\n",
       "\n",
       "    .dataframe tbody tr th {\n",
       "        vertical-align: top;\n",
       "    }\n",
       "\n",
       "    .dataframe thead th {\n",
       "        text-align: right;\n",
       "    }\n",
       "</style>\n",
       "<table border=\"1\" class=\"dataframe\">\n",
       "  <thead>\n",
       "    <tr style=\"text-align: right;\">\n",
       "      <th></th>\n",
       "      <th>country</th>\n",
       "      <th>gender</th>\n",
       "      <th>loan_amount</th>\n",
       "    </tr>\n",
       "  </thead>\n",
       "  <tbody>\n",
       "    <tr>\n",
       "      <th>0</th>\n",
       "      <td>Cambodia</td>\n",
       "      <td>female</td>\n",
       "      <td>562.903226</td>\n",
       "    </tr>\n",
       "    <tr>\n",
       "      <th>1</th>\n",
       "      <td>Cambodia</td>\n",
       "      <td>male</td>\n",
       "      <td>747.000000</td>\n",
       "    </tr>\n",
       "    <tr>\n",
       "      <th>2</th>\n",
       "      <td>El Salvador</td>\n",
       "      <td>female</td>\n",
       "      <td>567.454380</td>\n",
       "    </tr>\n",
       "    <tr>\n",
       "      <th>3</th>\n",
       "      <td>El Salvador</td>\n",
       "      <td>male</td>\n",
       "      <td>605.599711</td>\n",
       "    </tr>\n",
       "    <tr>\n",
       "      <th>4</th>\n",
       "      <td>Kenya</td>\n",
       "      <td>female</td>\n",
       "      <td>345.028323</td>\n",
       "    </tr>\n",
       "    <tr>\n",
       "      <th>5</th>\n",
       "      <td>Kenya</td>\n",
       "      <td>male</td>\n",
       "      <td>497.681966</td>\n",
       "    </tr>\n",
       "    <tr>\n",
       "      <th>6</th>\n",
       "      <td>Pakistan</td>\n",
       "      <td>female</td>\n",
       "      <td>427.987875</td>\n",
       "    </tr>\n",
       "    <tr>\n",
       "      <th>7</th>\n",
       "      <td>Pakistan</td>\n",
       "      <td>male</td>\n",
       "      <td>642.129630</td>\n",
       "    </tr>\n",
       "    <tr>\n",
       "      <th>8</th>\n",
       "      <td>Philippines</td>\n",
       "      <td>female</td>\n",
       "      <td>327.199599</td>\n",
       "    </tr>\n",
       "    <tr>\n",
       "      <th>9</th>\n",
       "      <td>Philippines</td>\n",
       "      <td>male</td>\n",
       "      <td>377.699663</td>\n",
       "    </tr>\n",
       "  </tbody>\n",
       "</table>\n",
       "</div>"
      ],
      "text/plain": [
       "       country  gender  loan_amount\n",
       "0     Cambodia  female   562.903226\n",
       "1     Cambodia    male   747.000000\n",
       "2  El Salvador  female   567.454380\n",
       "3  El Salvador    male   605.599711\n",
       "4        Kenya  female   345.028323\n",
       "5        Kenya    male   497.681966\n",
       "6     Pakistan  female   427.987875\n",
       "7     Pakistan    male   642.129630\n",
       "8  Philippines  female   327.199599\n",
       "9  Philippines    male   377.699663"
      ]
     },
     "execution_count": 102,
     "metadata": {},
     "output_type": "execute_result"
    }
   ],
   "source": [
    "df.groupby(['country','gender']).loan_amount.mean().to_frame().reset_index()\n",
    "\n"
   ]
  },
  {
   "cell_type": "code",
   "execution_count": null,
   "metadata": {},
   "outputs": [],
   "source": [
    "\"on average, men receive higher loans\""
   ]
  },
  {
   "cell_type": "markdown",
   "metadata": {},
   "source": [
    "Which country has the *least* disparity in loan amounts awarded by gender?"
   ]
  },
  {
   "cell_type": "code",
   "execution_count": null,
   "metadata": {
    "collapsed": true
   },
   "outputs": [],
   "source": [
    "#Phillipines \n",
    "\n"
   ]
  },
  {
   "cell_type": "markdown",
   "metadata": {},
   "source": [
    "Based on the data, what kind of recommendations can you make to Kiva about the loans they give?"
   ]
  },
  {
   "cell_type": "code",
   "execution_count": null,
   "metadata": {
    "collapsed": true
   },
   "outputs": [],
   "source": []
  },
  {
   "cell_type": "markdown",
   "metadata": {},
   "source": [
    "What actions could be taken to implement the recommendations you've made?"
   ]
  },
  {
   "cell_type": "code",
   "execution_count": null,
   "metadata": {
    "collapsed": true
   },
   "outputs": [],
   "source": []
  },
  {
   "cell_type": "markdown",
   "metadata": {},
   "source": [
    "## Step 6: Styling\n",
    "\n",
    "\n",
    "Set a different color palette using `sns.set_palette()`. You can use any of the Color Brewer qualitative color palettes:\n",
    "\n",
    "- Set1\n",
    "- Set2\n",
    "- Set3\n",
    "- Pastel1\n",
    "- Pastel2\n",
    "- Dark2\n",
    "- Accent\n",
    "\n",
    "You can read more about <a href = \"https://seaborn.pydata.org/tutorial/color_palettes.html#qualitative-color-palettes\" target = \"_blank\">qualitative color palettes in the Seaborn documentation.</a>\n",
    "\n",
    "\n",
    "Set the plot background style using `sns.set_style()`. You can experiment with:\n",
    "- whitegrid\n",
    "- darkgrid\n",
    "- white\n",
    "- dark\n",
    "\n",
    "Set the title using `ax.set_title(\"\")`.\n"
   ]
  },
  {
   "cell_type": "code",
   "execution_count": null,
   "metadata": {},
   "outputs": [],
   "source": [
    "# Set color palette\n",
    "\n",
    "\n",
    "# Set style\n",
    "\n",
    "\n",
    "# Create figure and axes (no need to use the previous syntax, as the y-label ticks aren't going to be formatted)\n",
    "plt.figure(figsize=(25, 15))\n",
    "\n",
    "# Add a title\n",
    "\n",
    "\n",
    "# Use Seaborn to create the bar plot\n",
    "\n"
   ]
  },
  {
   "cell_type": "markdown",
   "metadata": {},
   "source": [
    "## Step 7: Box Plots With Kiva Data\n",
    "\n",
    "So far you have visualized the average size of loans by country using bar charts; now you are going to make a box plot to compare the distribution of loans by country."
   ]
  },
  {
   "cell_type": "markdown",
   "metadata": {},
   "source": [
    "We have set up a figure for you to plot on. Use `sns.boxplot()` to compare the distribution of loan amounts by country for the Kiva dataset.   \n",
    "\n",
    "`sns.boxplot()` can be passed the same parameters as `sns.barplot()`.\n",
    "\n",
    "**Optional:** You may set a new color palette if you would like to continue using `sns.set_palette()`.\n"
   ]
  },
  {
   "cell_type": "code",
   "execution_count": null,
   "metadata": {},
   "outputs": [],
   "source": [
    "plt.figure(figsize=(16, 10))\n",
    "\n",
    "\n"
   ]
  },
  {
   "cell_type": "markdown",
   "metadata": {},
   "source": [
    "#### Reflection Questions\n",
    "\n",
    "Which country's box has the widest distribution?"
   ]
  },
  {
   "cell_type": "code",
   "execution_count": null,
   "metadata": {
    "collapsed": true
   },
   "outputs": [],
   "source": []
  },
  {
   "cell_type": "markdown",
   "metadata": {},
   "source": [
    "In which country would you be most likely to receive the largest loan amount?"
   ]
  },
  {
   "cell_type": "code",
   "execution_count": null,
   "metadata": {
    "collapsed": true
   },
   "outputs": [],
   "source": []
  },
  {
   "cell_type": "markdown",
   "metadata": {},
   "source": [
    "## Step 8: Box Plot by Activity"
   ]
  },
  {
   "cell_type": "markdown",
   "metadata": {},
   "source": [
    "Instead of visualizing the loan amount by *country*, use `sns.boxplot()` to plot the loan amount by *activity*.\n",
    "<br>\n",
    "<br>\n",
    "<details>\n",
    "<summary>Hint</summary>\n",
    "<br>\n",
    "You can use the same code as the box plot above, but the `x` parameter should be set to `\"activity\"`.\n",
    "<br>\n",
    "</details>\n",
    " \n",
    "**Optional:** Set a different plot style and color palette to best visualize this data."
   ]
  },
  {
   "cell_type": "code",
   "execution_count": null,
   "metadata": {},
   "outputs": [],
   "source": [
    "plt.figure(figsize=(16, 10))\n",
    "\n",
    "\n"
   ]
  },
  {
   "cell_type": "markdown",
   "metadata": {},
   "source": [
    "#### Reflection Questions"
   ]
  },
  {
   "cell_type": "markdown",
   "metadata": {},
   "source": [
    "What does this visualization reveal that previous ones did not?"
   ]
  },
  {
   "cell_type": "code",
   "execution_count": null,
   "metadata": {
    "collapsed": true
   },
   "outputs": [],
   "source": []
  },
  {
   "cell_type": "markdown",
   "metadata": {},
   "source": [
    "## Step 9: Violin Plots"
   ]
  },
  {
   "cell_type": "markdown",
   "metadata": {},
   "source": [
    "You can use nearly identical syntax (as you have used for box plots) to create violin plots. Take this line of code from above:\n",
    "\n",
    "```python\n",
    "sns.boxplot(data=df, x=\"activity\", y=\"loan_amount\")\n",
    "```\n",
    "\n",
    "To visualize the distribution of the exact same data as a violin plot you could pass the same parameters to `sns.violinplot()` instead of `sns.boxplot()`.\n",
    "\n",
    "Change the code in the cell below so that the data is plotted as a violin plot instead of a barplot."
   ]
  },
  {
   "cell_type": "code",
   "execution_count": null,
   "metadata": {},
   "outputs": [],
   "source": [
    "plt.figure(figsize=(16, 10))\n",
    "\n",
    "sns.boxplot(data=df, x=\"activity\", y=\"loan_amount\")"
   ]
  },
  {
   "cell_type": "markdown",
   "metadata": {},
   "source": [
    "### Create a violin plot that visualizes the distribution of loan amount by country.\n",
    "Previously, you created a violin plot and plotted the data by _activity_. This time, create a violin plot that plots the data by _country_.\n",
    "\n",
    "<br>\n",
    "<details>\n",
    "<summary>Hint</summary>\n",
    "<br>\n",
    "Change the value of the `x` argument passed into the `violinplot()` function.\n",
    "<br>\n",
    "</details>"
   ]
  },
  {
   "cell_type": "code",
   "execution_count": null,
   "metadata": {},
   "outputs": [],
   "source": [
    "plt.figure(figsize=(16, 10))"
   ]
  },
  {
   "cell_type": "markdown",
   "metadata": {},
   "source": [
    "## Step 10: Split Violin Plots"
   ]
  },
  {
   "cell_type": "markdown",
   "metadata": {},
   "source": [
    "Use the `hue` and `split` parameters with `sns.violinplot()` to visualize the distribution of loan amount by country, split by gender. \n",
    "\n",
    "<br>\n",
    "<details>\n",
    "<summary>Hint</summary>\n",
    "<br>\n",
    "The argument `hue` should be set to `\"gender\"` and `split` should equal `True`. \n",
    "<br>\n",
    "</details>"
   ]
  },
  {
   "cell_type": "code",
   "execution_count": null,
   "metadata": {},
   "outputs": [],
   "source": [
    "# Some styling (feel free to modify)\n",
    "sns.set_palette(\"Spectral\")\n",
    "plt.figure(figsize=(18, 12))"
   ]
  },
  {
   "cell_type": "markdown",
   "metadata": {},
   "source": [
    "#### Reflection Questions"
   ]
  },
  {
   "cell_type": "markdown",
   "metadata": {},
   "source": [
    "What does this visualization reveal about the distribution of loan amounts within countries by gender?"
   ]
  },
  {
   "cell_type": "code",
   "execution_count": null,
   "metadata": {
    "collapsed": true
   },
   "outputs": [],
   "source": []
  },
  {
   "cell_type": "markdown",
   "metadata": {},
   "source": [
    "## You're done! Congratulations!\n",
    "\n",
    "You used Seaborn to visualize insights using a dataset from Kaggle. You explored the average loan amount by country using aggregated bar charts, box plots, and violin plots. You also nested the data by gender, allowing you to draw additional insights from your charts. Congratulations!\n",
    "\n",
    "### How do you feel?"
   ]
  },
  {
   "cell_type": "code",
   "execution_count": null,
   "metadata": {
    "collapsed": true
   },
   "outputs": [],
   "source": []
  }
 ],
 "metadata": {
  "kernelspec": {
   "display_name": "Python 3 (ipykernel)",
   "language": "python",
   "name": "python3"
  },
  "language_info": {
   "codemirror_mode": {
    "name": "ipython",
    "version": 3
   },
   "file_extension": ".py",
   "mimetype": "text/x-python",
   "name": "python",
   "nbconvert_exporter": "python",
   "pygments_lexer": "ipython3",
   "version": "3.9.13"
  }
 },
 "nbformat": 4,
 "nbformat_minor": 2
}
