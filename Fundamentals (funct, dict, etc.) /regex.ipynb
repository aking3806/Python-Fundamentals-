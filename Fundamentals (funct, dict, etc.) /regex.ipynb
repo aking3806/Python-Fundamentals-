{
 "cells": [
  {
   "cell_type": "markdown",
   "metadata": {},
   "source": [
    "#### Regex Basics"
   ]
  },
  {
   "cell_type": "markdown",
   "metadata": {},
   "source": [
    "Summary: \n",
    "- **Regular expressions** are special sequences of characters that describe a pattern of text that is to be matched\n",
    "- We can use literals to match the exact characters that we desire\n",
    "- **Alternation**, using the pipe symbol |, allows us to match the text preceding or following the |\n",
    "- **Character sets**, denoted by a pair of brackets [], let us match one character from a series of characters\n",
    "- **Wildcards**, represented by the period or dot ., will match any single character (letter, number, symbol or whitespace)\n",
    "- **Ranges** allow us to specify a range of characters in which we can make a match\n",
    "- **Shorthand character classes** like \\w, \\d and \\s represent the ranges representing word characters, digit characters, and whitespace characters, respectively\n",
    "- **Groupings**, denoted with parentheses (), group parts of a regular expression together, and allows us to limit alternation to part of a regex\n",
    "- **Fixed quantifiers**, represented with curly braces {}, let us indicate the exact quantity or a range of quantity of a character we wish to match\n",
    "- **Optional quantifiers**, indicated by the question mark ?, allow us to indicate a character in a regex is optional, or can appear either 0 times or 1 time\n",
    "- The **Kleene star**, denoted with the asterisk *, is a quantifier that matches the preceding character 0 or more times\n",
    "- The **Kleene plus**, denoted by the plus +, matches the preceding character 1 or more times\n",
    "- The **anchor** symbols hat ^ and dollar sign $ are used to match text at the start and end of a string, respectively"
   ]
  },
  {
   "cell_type": "markdown",
   "metadata": {},
   "source": [
    "Key Metacharacters:\n",
    "- . : Matches any single character except a newline.\n",
    "- ^ : Matches the start of a string.\n",
    "- $ : Matches the end of a string.\n",
    "- \"*\" : Matches zero or more occurrences of the preceding character.\n",
    "- \"+\" : Matches one or more occurrences of the preceding character.\n",
    "- ? : Matches zero or one occurrence of the preceding character.\n",
    "- [] : A character class. Matches any character inside the square brackets.\n",
    "- () : Groups patterns together.\n",
    "- | : Acts like an OR operator, allowing multiple patterns to be matched."
   ]
  },
  {
   "cell_type": "markdown",
   "metadata": {},
   "source": [
    "#### Key Aspects"
   ]
  },
  {
   "cell_type": "markdown",
   "metadata": {},
   "source": [
    "**Literals** \\\n",
    "Regular expression contains the exact text that we want to match. \n",
    "- The regex a, for example, will match the text a, and the regex bananas will match the text bananas.\n",
    "- The regex 3 will match the 3 in the piece of text 34,\n",
    "\n",
    "Can use to match parts of text within a string\n",
    "- When the regular expression finds a character that matches the first piece of the expression, it looks to find a continuous sequence of matching characters.\n",
    "\n",
    "**Alternation** \\\n",
    "Performed in regular expressions with the pipe symbol, |, allows us to match either the characters preceding the | OR the characters after the |\n",
    "- The regex baboons|gorillas will match baboons in the text I love baboons, but will also match gorillas in the text I love gorillas.\n",
    "\n",
    "**Character sets** \\\n",
    "denoted by a pair of brackets [] let us match one character from a series of characters, allowing for matches with incorrect or different spellings.\n",
    "- regex con[sc]en[sc]us will match consensus, the correct spelling of the word, but also match the following three incorrect spellings: concensus, consencus, and concencus\n",
    "- the regex [cat] will match the characters c, a, or t, but not the text cat.\n",
    "\n",
    "**Wildcards**\\\n",
    ". will match any single character (letter, number, symbol or whitespace) in a piece of text. \n",
    "- Let’s say we want to match any 9-character piece of text. The regex ......... will completely match orangutan and marsupial\n",
    "- I ate . bananas will completely match both I ate 3 bananas and I ate 8 bananas\n",
    "\n",
    "if we want to match an actual period, . use the escape character, \\, to escape the wildcard functionality \n",
    "- The regex Howler monkeys are really lazy\\. will completely match the text Howler monkeys are really lazy.\n",
    "\n",
    "**Ranges**\\\n",
    "allow us to specify a range of characters in which we can make a match without having to type out each individual character\n",
    "- regex [abc], which would match any character a, b, or c, is equivalent to regex range [a-c]\n",
    "- match any single capital letter with the regex [A-Z], lowercase letter with the regex [a-z], any digit with the regex [0-9]\n",
    "- To match any single capital or lowercase alphabetical character, we can use the regex [A-Za-z]\n",
    "\n",
    "**Anchors**\\\n",
    "T hat ^ and dollar sign $ are used to match text at the start and the end of a string, respectively.\n",
    "- ^Monkeys: my mortal enemy$ will completely match the text Monkeys: my mortal enemy but not match Spider Monkeys: my mortal enemy in the wild"
   ]
  },
  {
   "cell_type": "markdown",
   "metadata": {},
   "source": [
    "##### shorthand character classes \n",
    "Represent common ranges, and they make writing regular expressions much simpler. \\\n",
    "- \\w: the “word character” class represents the regex range [A-Za-z0-9_], and it matches a single upper \\\n",
    "- \\d: the “digit character” class represents the regex range [0-9], and it matches a single digit character \\\n",
    "- \\s: the “whitespace character” class represents the regex range [ \\t\\r\\n\\f\\v], matching a single space, tab, carriage return, line break, form feed, or vertical tab\\\n",
    "- \\W: the “non-word character” class represents the regex range [^A-Za-z0-9_], matching any character that is not included in the range represented by \\w\n",
    "- \\D: the “non-digit character” class represents the regex range [^0-9], matching any character that is not included in the range represented by \\d\n",
    "- \\S: the “non-whitespace character” class represents the regex range [^ \\t\\r\\n\\f\\v], matching any character that is not included in the range represented by \\s\n",
    "\n",
    "Examples: \n",
    "- the regex \\d\\s\\w\\w\\w\\w\\w\\w\\w matches a digit character, followed by a whitespace character, followed by 7 word characters. Thus the regex completely matches the text 3 monkeys."
   ]
  },
  {
   "cell_type": "markdown",
   "metadata": {},
   "source": [
    "##### Grouping & Quantifiers \n",
    "\n",
    "**Grouping**\\\n",
    "Denoted with the open parenthesis ( and the closing parenthesis ), lets us group parts of a regular expression together, and allows us to limit alternation to part of the regex.\n",
    "\n",
    "regex I love (baboons|gorillas) will match the text I love and then match either baboons or gorillas, as the grouping limits the reach of the | to the text within the parentheses.\n",
    "\n",
    "**Quantifiers**\\\n",
    "Denoted with curly braces {}, let us indicate the exact quantity of a character we wish to match, or allow us to provide a quantity range to match on.\n",
    "- \\w{3} will match exactly 3 word characters\n",
    "- \\w{4,7} will match at minimum 4 word characters and at maximum 7 word characters\n",
    "- regex roa{3}r will match the characters ro followed by 3 as, and then the character r, such as in the text roaaar\n",
    "\n",
    "**Optional quantifiers** \\\n",
    "indicated by the question mark ?, allow us to indicate a character in a regex is optional, or can appear either 0 times or 1 time\n",
    "- the regex humou?r matches the characters humo, then either 0 occurrences or 1 occurrence of the letter u, and finally the letter r\n",
    "- The regex The monkey ate a (rotten )?banana will completely match both The monkey ate a rotten banana and The monkey ate a banana.\n",
    "\n",
    "**Quantifiers - 0 or More, 1 or More** \\\n",
    "The *Kleene star*, denoted with the asterisk *, is also a quantifier, and matches the preceding character 0 or more times.; the character doesn’t need to appear, can appear once, or can appear many many times.\n",
    "- regex meo*w will match the characters me, followed by 0 or more os, followed by a w.\\\\\n",
    "\n",
    "The *Kleene plus*, denoted by the plus +, which matches the preceding character 1 or more times.\n",
    "- The regex meo+w will match the characters me, followed by 1 or more os, followed by a w\n"
   ]
  },
  {
   "cell_type": "code",
   "execution_count": 1,
   "metadata": {},
   "outputs": [],
   "source": [
    "## import module for regex\n",
    "import re"
   ]
  },
  {
   "cell_type": "markdown",
   "metadata": {},
   "source": [
    "### Code Examples"
   ]
  },
  {
   "cell_type": "markdown",
   "metadata": {},
   "source": [
    "##### Matching Patterns \n",
    "Use the re.search() function is used to find the first match of a pattern in a string."
   ]
  },
  {
   "cell_type": "code",
   "execution_count": 2,
   "metadata": {},
   "outputs": [
    {
     "name": "stdout",
     "output_type": "stream",
     "text": [
      "Found: cat\n"
     ]
    }
   ],
   "source": [
    "text = \"A wild cat appeared!\"\n",
    "match = re.search(r'cat', text)\n",
    "if match:\n",
    "    print(\"Found:\", match.group())\n",
    "else:\n",
    "    print(\"Not found.\")"
   ]
  },
  {
   "cell_type": "markdown",
   "metadata": {},
   "source": [
    "##### Character Classes and Quantifiers:\n",
    "Character classes and quantifiers are used to match specific sets of characters and control the number of occurrences.\n",
    "\n",
    "re.findall() finds all matches"
   ]
  },
  {
   "cell_type": "code",
   "execution_count": 4,
   "metadata": {},
   "outputs": [
    {
     "name": "stdout",
     "output_type": "stream",
     "text": [
      "['x2', 'x42', 'x999']\n"
     ]
    }
   ],
   "source": [
    "# Match any 'x' followed by one or more digits\n",
    "text = \"x, x2, x42, x999\"\n",
    "matches = re.findall(r'x\\d+', text)\n",
    "print(matches)  # Output: ['x2', 'x42', 'x999']\n",
    "\n",
    "## Explanation:\n",
    "\n",
    "# x matches the character 'x' literally.\n",
    "# \\d+ matches one or more digits (0-9)."
   ]
  },
  {
   "cell_type": "markdown",
   "metadata": {},
   "source": [
    "##### Groups and Capturing:\n",
    "Parentheses () are used to create groups. You can capture and extract specific parts of the matched text using groups."
   ]
  },
  {
   "cell_type": "code",
   "execution_count": 5,
   "metadata": {},
   "outputs": [
    {
     "name": "stdout",
     "output_type": "stream",
     "text": [
      "Area Code: 123\n",
      "Local Number: 456-7890\n"
     ]
    }
   ],
   "source": [
    "# Extract the area code and local number from a phone number\n",
    "phone = \"Phone: (123) 456-7890\"\n",
    "match = re.search(r'\\((\\d{3})\\) (\\d{3}-\\d{4})', phone)\n",
    "if match:\n",
    "    area_code, local_number = match.groups()\n",
    "    print(\"Area Code:\", area_code)\n",
    "    print(\"Local Number:\", local_number)\n",
    "## Explanation\n",
    "# \\( and \\) match literal parentheses in the string. Since parentheses have a special meaning in regular expressions, we need to escape them with backslashes to treat them as ordinary characters.\n",
    "# (\\d{3}): This is a group that matches three digits in a row. \\d represents any digit (0-9), and {3} specifies that it should be repeated exactly three times.\n",
    "# (\\d{3}-\\d{4}): This is another group that matches a pattern of three digits followed by a hyphen and then four digits."
   ]
  },
  {
   "cell_type": "markdown",
   "metadata": {},
   "source": []
  },
  {
   "cell_type": "markdown",
   "metadata": {},
   "source": []
  }
 ],
 "metadata": {
  "kernelspec": {
   "display_name": "Python 3",
   "language": "python",
   "name": "python3"
  },
  "language_info": {
   "codemirror_mode": {
    "name": "ipython",
    "version": 3
   },
   "file_extension": ".py",
   "mimetype": "text/x-python",
   "name": "python",
   "nbconvert_exporter": "python",
   "pygments_lexer": "ipython3",
   "version": "3.9.6"
  },
  "orig_nbformat": 4
 },
 "nbformat": 4,
 "nbformat_minor": 2
}
