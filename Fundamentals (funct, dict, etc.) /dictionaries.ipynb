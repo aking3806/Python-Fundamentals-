{
 "cells": [
  {
   "cell_type": "markdown",
   "metadata": {},
   "source": []
  },
  {
   "cell_type": "markdown",
   "metadata": {},
   "source": [
    "#### Dictionaries\n",
    "Dictionaries in Python are unordered collections of key-value pairs.\n",
    " Each key is unique and used to access its corresponding value. Dictionaries are mutable, meaning you can add, modify, or delete key-value pairs."
   ]
  },
  {
   "cell_type": "code",
   "execution_count": 1,
   "metadata": {},
   "outputs": [
    {
     "name": "stdout",
     "output_type": "stream",
     "text": [
      "1\n"
     ]
    }
   ],
   "source": [
    "# Create a dictionary\n",
    "age_mapping = {\n",
    "    '18 - 24 years old': 0,\n",
    "    '25 - 34 years old': 1,\n",
    "    '35 - 44 years old': 2,\n",
    "    '45 - 54 years old': 3,\n",
    "    '55 - 64 years old': 4\n",
    "}\n",
    "\n",
    "# Access a value using a key\n",
    "print(age_mapping['25 - 34 years old'])  # Output: 1\n",
    "\n",
    "# Add a new key-value pair to a dictionary \n",
    "age_mapping['65+ years old'] = 5\n",
    "\n",
    "# Modify the value for a specific key\n",
    "age_mapping['45 - 54 years old'] = 3.5\n",
    "\n",
    "# Delete a key-value pair\n",
    "del age_mapping['35 - 44 years old']\n"
   ]
  },
  {
   "cell_type": "code",
   "execution_count": null,
   "metadata": {},
   "outputs": [],
   "source": [
    "Accessing Dictionaries \n",
    "#The get() method returns the value of the item with the specified key.\n",
    "#dict.get(keyname, value)\n",
    "\n",
    "#DataFrame.get(key, default=None)[source]\n",
    "#Get item from object for given key (ex: DataFrame column)."
   ]
  },
  {
   "cell_type": "markdown",
   "metadata": {},
   "source": [
    "##### Creating Dictionaries "
   ]
  },
  {
   "cell_type": "markdown",
   "metadata": {},
   "source": [
    "Dictionary comprehension follows a similar structure to list comprehension. It consists of an expression for both the key and the value, followed by a loop and optional conditions. \n",
    "\n",
    "Here's the general syntax: {key_expression: value_expression for item in iterable if condition}\n",
    "\n",
    "- key_expression represents the expression that determines the key for each item in the iterable.\n",
    "- value_expression represents the expression that determines the value for each item in the iterable.\n",
    "- item represents each element in the iterable.\n",
    "- condition is an optional filtering condition that allows you to include or exclude certain items from the dictionary."
   ]
  },
  {
   "cell_type": "code",
   "execution_count": null,
   "metadata": {},
   "outputs": [],
   "source": []
  },
  {
   "cell_type": "markdown",
   "metadata": {},
   "source": [
    "### Dictionary Comprehension\n",
    "Dictionary comprehension allows you to create dictionaries in a concise way.\n",
    "\n",
    "Example 5: Dictionary Comprehension"
   ]
  },
  {
   "cell_type": "code",
   "execution_count": null,
   "metadata": {},
   "outputs": [],
   "source": [
    "\n",
    "squares = {x: x**2 for x in range(1, 6)}\n",
    "print(squares)  # Output: {1: 1, 2: 4, 3: 9, 4: 16, 5: 25}"
   ]
  },
  {
   "cell_type": "markdown",
   "metadata": {},
   "source": [
    "5. Using Dictionaries with enumerate\n",
    "The enumerate function can be used in conjunction with dictionaries to get both the index and the value during iterations.\n",
    "\n",
    "Example 6: Using enumerate with Dictionaries"
   ]
  },
  {
   "cell_type": "code",
   "execution_count": null,
   "metadata": {},
   "outputs": [],
   "source": [
    "fruits = ['apple', 'banana', 'cherry']\n",
    "fruits_dict = {index: fruit for index, fruit in enumerate(fruits)}\n",
    "print(fruits_dict)  # Output: {0: 'apple', 1: 'banana', 2: 'cherry'}"
   ]
  }
 ],
 "metadata": {
  "kernelspec": {
   "display_name": "Python 3",
   "language": "python",
   "name": "python3"
  },
  "language_info": {
   "codemirror_mode": {
    "name": "ipython",
    "version": 3
   },
   "file_extension": ".py",
   "mimetype": "text/x-python",
   "name": "python",
   "nbconvert_exporter": "python",
   "pygments_lexer": "ipython3",
   "version": "3.9.6"
  },
  "orig_nbformat": 4
 },
 "nbformat": 4,
 "nbformat_minor": 2
}
